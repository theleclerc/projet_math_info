{
 "cells": [
  {
   "cell_type": "markdown",
   "metadata": {},
   "source": [
    "# Projet Math-Info: Lignes de niveau\n",
    "  $\\quad$L’objectif de ce projet numérique est de développer un programme Python permettant de calculer les lignes de niveau d’une fonction $f$ de deux variables réelles et à valeurs réelles (supposée continûment différentiable), c’est-à-dire les ensembles de la forme\\\n",
    "$ \\bf{\\qquad {(x,y)∈ R^{2}|f(x,y)=c}}$ où $\\bf{c∈R}.$ \\\n",
    "La représentation graphique de ces courbes est un tracé de contour (cf. les\n",
    "exemples d’usage de la fonction contour de matplotlib).\n",
    "## Sommaire:\n",
    " ### - find_seed\n",
    " ### - contour\n",
    " ### - simple_contour version \"naïve\"\n",
    " ### - simple_contour version \"méthode de Newton\""
   ]
  },
  {
   "cell_type": "code",
   "execution_count": 12,
   "metadata": {},
   "outputs": [],
   "source": [
    "from math import *\n",
    "import numpy as np\n",
    "\n",
    "def f(x,y):\n",
    "    \"\"\"\n",
    "    fonction test\n",
    "    \"\"\"\n",
    "    res = 2*(np.exp(-np.power(x,2)-np.power(y,2))-np.exp(-np.power(x-1,2)-np.power(y-1,2)))\n",
    "    return(res)\n",
    "\n",
    "def g(x,y):\n",
    "    \"\"\"\n",
    "    fonction test\n",
    "    \"\"\"\n",
    "    return(np.power(np.power(x,2)+np.power(y,2),0.5))"
   ]
  },
  {
   "cell_type": "markdown",
   "metadata": {},
   "source": [
    "## find_seed(g,c,delta)\n",
    "\n",
    "### Remarque : \n",
    " Ici par rapport aux notations des polycopiés, on a g qui est fonction d'une seule variable, c'est à dire par exemple $g(t) = f(0,t)$ pour tout t appartenant à $[0,1]$."
   ]
  },
  {
   "cell_type": "markdown",
   "metadata": {},
   "source": [
    "Une condition raisonnable sur $f, c, f(0,0)$ et  $f(0,1)$ (ou sur $g, c, g(0)$ et  $g(1))$ \\\n",
    "On peut demander au minimum $f   C^{0}$ et $ \\min{(f(0,0),f(0,1))} \\leq c \\leq \\max{(f(0,0),f(0,1))}$ ou encore plus généralement $g \\ C^{0}$ et $\\min{(g(0),g(1))} \\leq c \\leq \\max{(g(0),g(1))}$. \\\n",
    " Cela garantit en effet que c appartient à $g([0,1]) = f({0}\\times[0,1])$ par le théorème des valeurs intermédiaires.\n",
    " \n",
    " Ce n'est pas une condition nécéssaire puisqu'il serait nécessaire et suffisant pour une fonction continue d'avoir $\\inf(f) \\leq c \\leq \\sup(f)$ sur $[0,1]$, mais cette condition est minimale pour une condition portant sur $g, g(0)$ et $g(1)$ puisqu'il existe des fonctions non continues vérifiant $\\min{(g(0),g(1))} \\leq c \\leq \\max{(g(0),g(1))}$ et c n'appartient pas à l'image de $[0,1]$ par g, et des fonctions continues telles que l'on n'est pas $\\min{(g(0),g(1))} \\leq c \\leq \\max{(g(0),g(1))}$ et c n'appartient pas à l'image de $[0,1]$ par g."
   ]
  },
  {
   "cell_type": "markdown",
   "metadata": {},
   "source": [
    "### Avec cette hypothèse sur g, on peut proposer une approche par dichotomie :\n",
    "#### - invariant de boucle: $f(ta)= a \\leq c \\leq b \\leq f(tb)$\n",
    "#### - variant de boucle: $ta-tb = (\\frac{1}{2})^{k}$"
   ]
  },
  {
   "cell_type": "code",
   "execution_count": 13,
   "metadata": {},
   "outputs": [],
   "source": [
    "def find_seed(g, c=0, eps=2**(-26)):\n",
    "    \"\"\"\n",
    "    recherche d'une solution de t de [0,1] tq g(t) = c,\n",
    "    à condition que c soit dans [g(0),g(1)] ou [g(1),g(0)]\n",
    "    \"\"\"\n",
    "    a, b = g(0),g(1)\n",
    "    ta, tb = 0, 1\n",
    "    if a > b:\n",
    "        a, b = b, a\n",
    "        ta, tb = tb, ta\n",
    "    try:\n",
    "        if c < a or c > b :\n",
    "            raise ValueError\n",
    "    except ValueError:\n",
    "        return(None)\n",
    "    #invariants: f(ta)=a<=c<=b=f(tb)\n",
    "    t = (ta + tb)/2\n",
    "    while abs(g(t)-c) > eps :\n",
    "        if g(t) < c:\n",
    "            a = g(t)\n",
    "            ta = t\n",
    "        else:\n",
    "            b = g(t)\n",
    "            tb = t\n",
    "        t = (ta + tb)/2\n",
    "    return t"
   ]
  },
  {
   "cell_type": "markdown",
   "metadata": {},
   "source": [
    "## contour(f,c,xc,yc,delta)\n",
    "\n",
    " On supposera dans cette partie déjà écrite la fonction simple_contour.\\\n",
    "Le principe est de découper la zone en quadrillage avec les tableaux $xc$ et $yc$.\\\n",
    "Dans chaque case de ce quadrillage, on applique simple_contour à une fonction $ftilde$ qui correspond à $f$ par la transformation affine $(xa + (xb-xa).tx, ya + (yb-ya).ty)$\\\n",
    "On obtient les coordonnées des points de $[0,1]²$ en lesquels $ftilde$ vaut $c$\\\n",
    "On en déduit par $x,y = (xa + (xb-xa).tx, ya + (yb-ya).ty)$ les coordonnées des points dans $[xa,xb]\\times[ya,yb]$ en lesquels $f$ vaut $c$."
   ]
  },
  {
   "cell_type": "code",
   "execution_count": 14,
   "metadata": {},
   "outputs": [],
   "source": [
    "def contour(f, c=0.0, xc=[0.0,1.0], yc=[0.0,1.0], delta=0.01):\n",
    "    \"\"\"\n",
    "    renvoie des fragments pour chaque case du quadrillage (xc,yc) sous la forme de 2 listes de tableaux\n",
    "    \"\"\"\n",
    "    nx = len(xc)\n",
    "    ny = len(yc)\n",
    "    xs = []\n",
    "    ys = []\n",
    "    for i in range(0,nx-1):\n",
    "        xa,xb = xc[i],xc[i+1]\n",
    "        for j in range(0,ny-1):\n",
    "            ya,yb = yc[j],yc[j+1]\n",
    "            def ftilde(tx,ty):\n",
    "                \"\"\"\n",
    "                fonction de [0,1]X[0,1]\n",
    "                \"\"\"\n",
    "                return(f(xa+(xb-xa)*tx,ya+(yb-ya)*ty))\n",
    "            TX,TY = simple_contour(ftilde,c,delta)\n",
    "            x,y = (xb-xa)*TX + xa, (yb-ya)*TY + ya\n",
    "            xs.append(x)\n",
    "            ys.append(y)\n",
    "    return(xs,ys)"
   ]
  },
  {
   "cell_type": "markdown",
   "metadata": {},
   "source": [
    "## simple_contour(f,c,delta) version \"naïve\"\n",
    "\n",
    "On divise l'axe des abscisses en abscisses chacune écartée de $delta$ $(xi = i\\times delta)$\\\n",
    "On trouve pour chacune de ces abscisses une ordonnée $yi$ grâce à find_seed avec la fonction $g(t) = f(xi,t)$"
   ]
  },
  {
   "cell_type": "code",
   "execution_count": 15,
   "metadata": {},
   "outputs": [],
   "source": [
    "def simple_contour_naif(f,c=0.0,delta = 0.01):\n",
    "    \"\"\"\n",
    "    renvoie une partie de courbe de niveau\n",
    "    \"\"\"\n",
    "    x = np.arange(0,1,delta)\n",
    "    y = np.zeros(len(x),dtype = float)\n",
    "    for i,xi in enumerate(x):\n",
    "        yi = find_seed(lambda t : f(xi,t),c)\n",
    "        if yi == None:\n",
    "            y[i] = None\n",
    "        else:\n",
    "            y[i] = yi\n",
    "    return(x,y)\n",
    "\n",
    "def contour_naif(f, c=0.0, xc=[0.0,1.0], yc=[0.0,1.0], delta=0.01):\n",
    "    \"\"\"\n",
    "    renvoie des fragments pour chaque case du quadrillage (xc,yc) sous la forme de 2 listes de tableaux\n",
    "    \"\"\"\n",
    "    nx = len(xc)\n",
    "    ny = len(yc)\n",
    "    xs = []\n",
    "    ys = []\n",
    "    for i in range(0,nx-1):\n",
    "        xa,xb = xc[i],xc[i+1]\n",
    "        for j in range(0,ny-1):\n",
    "            ya,yb = yc[j],yc[j+1]\n",
    "            def ftilde(tx,ty):\n",
    "                \"\"\"\n",
    "                fonction de [0,1]X[0,1]\n",
    "                \"\"\"\n",
    "                return(f(xa+(xb-xa)*tx,ya+(yb-ya)*ty))\n",
    "            TX,TY = simple_contour_naif(ftilde,c,delta)\n",
    "            x,y = (xb-xa)*TX + xa, (yb-ya)*TY + ya\n",
    "            xs.append(x)\n",
    "            ys.append(y)\n",
    "    return(xs,ys)"
   ]
  },
  {
   "cell_type": "code",
   "execution_count": 16,
   "metadata": {},
   "outputs": [
    {
     "ename": "KeyboardInterrupt",
     "evalue": "",
     "output_type": "error",
     "traceback": [
      "\u001b[1;31m---------------------------------------------------------------------------\u001b[0m",
      "\u001b[1;31mKeyboardInterrupt\u001b[0m                         Traceback (most recent call last)",
      "\u001b[1;32m<ipython-input-16-0b8e00d320b0>\u001b[0m in \u001b[0;36m<module>\u001b[1;34m\u001b[0m\n\u001b[0;32m      4\u001b[0m \u001b[1;32mfor\u001b[0m \u001b[0mc\u001b[0m \u001b[1;32min\u001b[0m \u001b[1;33m[\u001b[0m\u001b[1;33m-\u001b[0m\u001b[1;36m1.5\u001b[0m\u001b[1;33m,\u001b[0m\u001b[1;33m-\u001b[0m\u001b[1;36m1\u001b[0m\u001b[1;33m,\u001b[0m\u001b[1;33m-\u001b[0m\u001b[1;36m0.5\u001b[0m\u001b[1;33m,\u001b[0m\u001b[1;36m0\u001b[0m\u001b[1;33m,\u001b[0m\u001b[1;36m0.5\u001b[0m\u001b[1;33m,\u001b[0m\u001b[1;36m1\u001b[0m\u001b[1;33m,\u001b[0m\u001b[1;36m1.5\u001b[0m\u001b[1;33m]\u001b[0m\u001b[1;33m:\u001b[0m\u001b[1;33m\u001b[0m\u001b[1;33m\u001b[0m\u001b[0m\n\u001b[0;32m      5\u001b[0m     \u001b[0mxc\u001b[0m\u001b[1;33m,\u001b[0m \u001b[0myc\u001b[0m \u001b[1;33m=\u001b[0m \u001b[0mnp\u001b[0m\u001b[1;33m.\u001b[0m\u001b[0mlinspace\u001b[0m\u001b[1;33m(\u001b[0m\u001b[1;33m-\u001b[0m\u001b[1;36m2.\u001b[0m\u001b[1;33m,\u001b[0m\u001b[1;36m3.\u001b[0m\u001b[1;33m,\u001b[0m\u001b[1;36m40\u001b[0m\u001b[1;33m)\u001b[0m\u001b[1;33m,\u001b[0m \u001b[0mnp\u001b[0m\u001b[1;33m.\u001b[0m\u001b[0mlinspace\u001b[0m\u001b[1;33m(\u001b[0m\u001b[1;33m-\u001b[0m\u001b[1;36m1.\u001b[0m\u001b[1;33m,\u001b[0m\u001b[1;36m2.\u001b[0m\u001b[1;33m,\u001b[0m\u001b[1;36m40\u001b[0m\u001b[1;33m)\u001b[0m\u001b[1;33m\u001b[0m\u001b[1;33m\u001b[0m\u001b[0m\n\u001b[1;32m----> 6\u001b[1;33m     \u001b[0mxs\u001b[0m\u001b[1;33m,\u001b[0m \u001b[0mys\u001b[0m \u001b[1;33m=\u001b[0m \u001b[0mcontour_naif\u001b[0m\u001b[1;33m(\u001b[0m\u001b[0mf\u001b[0m\u001b[1;33m,\u001b[0m\u001b[0mc\u001b[0m\u001b[1;33m,\u001b[0m\u001b[0mxc\u001b[0m\u001b[1;33m,\u001b[0m\u001b[0myc\u001b[0m\u001b[1;33m)\u001b[0m\u001b[1;33m\u001b[0m\u001b[1;33m\u001b[0m\u001b[0m\n\u001b[0m\u001b[0;32m      7\u001b[0m     \u001b[1;32mfor\u001b[0m \u001b[0mx\u001b[0m\u001b[1;33m,\u001b[0m\u001b[0my\u001b[0m \u001b[1;32min\u001b[0m \u001b[0mzip\u001b[0m\u001b[1;33m(\u001b[0m\u001b[0mxs\u001b[0m\u001b[1;33m,\u001b[0m\u001b[0mys\u001b[0m\u001b[1;33m)\u001b[0m\u001b[1;33m:\u001b[0m\u001b[1;33m\u001b[0m\u001b[1;33m\u001b[0m\u001b[0m\n\u001b[0;32m      8\u001b[0m         \u001b[0mplt\u001b[0m\u001b[1;33m.\u001b[0m\u001b[0mplot\u001b[0m\u001b[1;33m(\u001b[0m\u001b[0mx\u001b[0m\u001b[1;33m,\u001b[0m\u001b[0my\u001b[0m\u001b[1;33m,\u001b[0m\u001b[1;34m'-b'\u001b[0m\u001b[1;33m)\u001b[0m\u001b[1;33m\u001b[0m\u001b[1;33m\u001b[0m\u001b[0m\n",
      "\u001b[1;32m<ipython-input-15-98367ddaba47>\u001b[0m in \u001b[0;36mcontour_naif\u001b[1;34m(f, c, xc, yc, delta)\u001b[0m\n\u001b[0;32m     30\u001b[0m                 \"\"\"\n\u001b[0;32m     31\u001b[0m                 \u001b[1;32mreturn\u001b[0m\u001b[1;33m(\u001b[0m\u001b[0mf\u001b[0m\u001b[1;33m(\u001b[0m\u001b[0mxa\u001b[0m\u001b[1;33m+\u001b[0m\u001b[1;33m(\u001b[0m\u001b[0mxb\u001b[0m\u001b[1;33m-\u001b[0m\u001b[0mxa\u001b[0m\u001b[1;33m)\u001b[0m\u001b[1;33m*\u001b[0m\u001b[0mtx\u001b[0m\u001b[1;33m,\u001b[0m\u001b[0mya\u001b[0m\u001b[1;33m+\u001b[0m\u001b[1;33m(\u001b[0m\u001b[0myb\u001b[0m\u001b[1;33m-\u001b[0m\u001b[0mya\u001b[0m\u001b[1;33m)\u001b[0m\u001b[1;33m*\u001b[0m\u001b[0mty\u001b[0m\u001b[1;33m)\u001b[0m\u001b[1;33m)\u001b[0m\u001b[1;33m\u001b[0m\u001b[1;33m\u001b[0m\u001b[0m\n\u001b[1;32m---> 32\u001b[1;33m             \u001b[0mTX\u001b[0m\u001b[1;33m,\u001b[0m\u001b[0mTY\u001b[0m \u001b[1;33m=\u001b[0m \u001b[0msimple_contour_naif\u001b[0m\u001b[1;33m(\u001b[0m\u001b[0mftilde\u001b[0m\u001b[1;33m,\u001b[0m\u001b[0mc\u001b[0m\u001b[1;33m,\u001b[0m\u001b[0mdelta\u001b[0m\u001b[1;33m)\u001b[0m\u001b[1;33m\u001b[0m\u001b[1;33m\u001b[0m\u001b[0m\n\u001b[0m\u001b[0;32m     33\u001b[0m             \u001b[0mx\u001b[0m\u001b[1;33m,\u001b[0m\u001b[0my\u001b[0m \u001b[1;33m=\u001b[0m \u001b[1;33m(\u001b[0m\u001b[0mxb\u001b[0m\u001b[1;33m-\u001b[0m\u001b[0mxa\u001b[0m\u001b[1;33m)\u001b[0m\u001b[1;33m*\u001b[0m\u001b[0mTX\u001b[0m \u001b[1;33m+\u001b[0m \u001b[0mxa\u001b[0m\u001b[1;33m,\u001b[0m \u001b[1;33m(\u001b[0m\u001b[0myb\u001b[0m\u001b[1;33m-\u001b[0m\u001b[0mya\u001b[0m\u001b[1;33m)\u001b[0m\u001b[1;33m*\u001b[0m\u001b[0mTY\u001b[0m \u001b[1;33m+\u001b[0m \u001b[0mya\u001b[0m\u001b[1;33m\u001b[0m\u001b[1;33m\u001b[0m\u001b[0m\n\u001b[0;32m     34\u001b[0m             \u001b[0mxs\u001b[0m\u001b[1;33m.\u001b[0m\u001b[0mappend\u001b[0m\u001b[1;33m(\u001b[0m\u001b[0mx\u001b[0m\u001b[1;33m)\u001b[0m\u001b[1;33m\u001b[0m\u001b[1;33m\u001b[0m\u001b[0m\n",
      "\u001b[1;32m<ipython-input-15-98367ddaba47>\u001b[0m in \u001b[0;36msimple_contour_naif\u001b[1;34m(f, c, delta)\u001b[0m\n\u001b[0;32m      6\u001b[0m     \u001b[0my\u001b[0m \u001b[1;33m=\u001b[0m \u001b[0mnp\u001b[0m\u001b[1;33m.\u001b[0m\u001b[0mzeros\u001b[0m\u001b[1;33m(\u001b[0m\u001b[0mlen\u001b[0m\u001b[1;33m(\u001b[0m\u001b[0mx\u001b[0m\u001b[1;33m)\u001b[0m\u001b[1;33m,\u001b[0m\u001b[0mdtype\u001b[0m \u001b[1;33m=\u001b[0m \u001b[0mfloat\u001b[0m\u001b[1;33m)\u001b[0m\u001b[1;33m\u001b[0m\u001b[1;33m\u001b[0m\u001b[0m\n\u001b[0;32m      7\u001b[0m     \u001b[1;32mfor\u001b[0m \u001b[0mi\u001b[0m\u001b[1;33m,\u001b[0m\u001b[0mxi\u001b[0m \u001b[1;32min\u001b[0m \u001b[0menumerate\u001b[0m\u001b[1;33m(\u001b[0m\u001b[0mx\u001b[0m\u001b[1;33m)\u001b[0m\u001b[1;33m:\u001b[0m\u001b[1;33m\u001b[0m\u001b[1;33m\u001b[0m\u001b[0m\n\u001b[1;32m----> 8\u001b[1;33m         \u001b[0myi\u001b[0m \u001b[1;33m=\u001b[0m \u001b[0mfind_seed\u001b[0m\u001b[1;33m(\u001b[0m\u001b[1;32mlambda\u001b[0m \u001b[0mt\u001b[0m \u001b[1;33m:\u001b[0m \u001b[0mf\u001b[0m\u001b[1;33m(\u001b[0m\u001b[0mxi\u001b[0m\u001b[1;33m,\u001b[0m\u001b[0mt\u001b[0m\u001b[1;33m)\u001b[0m\u001b[1;33m,\u001b[0m\u001b[0mc\u001b[0m\u001b[1;33m)\u001b[0m\u001b[1;33m\u001b[0m\u001b[1;33m\u001b[0m\u001b[0m\n\u001b[0m\u001b[0;32m      9\u001b[0m         \u001b[1;32mif\u001b[0m \u001b[0myi\u001b[0m \u001b[1;33m==\u001b[0m \u001b[1;32mNone\u001b[0m\u001b[1;33m:\u001b[0m\u001b[1;33m\u001b[0m\u001b[1;33m\u001b[0m\u001b[0m\n\u001b[0;32m     10\u001b[0m             \u001b[0my\u001b[0m\u001b[1;33m[\u001b[0m\u001b[0mi\u001b[0m\u001b[1;33m]\u001b[0m \u001b[1;33m=\u001b[0m \u001b[1;32mNone\u001b[0m\u001b[1;33m\u001b[0m\u001b[1;33m\u001b[0m\u001b[0m\n",
      "\u001b[1;32m<ipython-input-13-0e88f32fa840>\u001b[0m in \u001b[0;36mfind_seed\u001b[1;34m(g, c, eps)\u001b[0m\n\u001b[0;32m     17\u001b[0m     \u001b[0mt\u001b[0m \u001b[1;33m=\u001b[0m \u001b[1;33m(\u001b[0m\u001b[0mta\u001b[0m \u001b[1;33m+\u001b[0m \u001b[0mtb\u001b[0m\u001b[1;33m)\u001b[0m\u001b[1;33m/\u001b[0m\u001b[1;36m2\u001b[0m\u001b[1;33m\u001b[0m\u001b[1;33m\u001b[0m\u001b[0m\n\u001b[0;32m     18\u001b[0m     \u001b[1;32mwhile\u001b[0m \u001b[0mabs\u001b[0m\u001b[1;33m(\u001b[0m\u001b[0mg\u001b[0m\u001b[1;33m(\u001b[0m\u001b[0mt\u001b[0m\u001b[1;33m)\u001b[0m\u001b[1;33m-\u001b[0m\u001b[0mc\u001b[0m\u001b[1;33m)\u001b[0m \u001b[1;33m>\u001b[0m \u001b[0meps\u001b[0m \u001b[1;33m:\u001b[0m\u001b[1;33m\u001b[0m\u001b[1;33m\u001b[0m\u001b[0m\n\u001b[1;32m---> 19\u001b[1;33m         \u001b[1;32mif\u001b[0m \u001b[0mg\u001b[0m\u001b[1;33m(\u001b[0m\u001b[0mt\u001b[0m\u001b[1;33m)\u001b[0m \u001b[1;33m<\u001b[0m \u001b[0mc\u001b[0m\u001b[1;33m:\u001b[0m\u001b[1;33m\u001b[0m\u001b[1;33m\u001b[0m\u001b[0m\n\u001b[0m\u001b[0;32m     20\u001b[0m             \u001b[0ma\u001b[0m \u001b[1;33m=\u001b[0m \u001b[0mg\u001b[0m\u001b[1;33m(\u001b[0m\u001b[0mt\u001b[0m\u001b[1;33m)\u001b[0m\u001b[1;33m\u001b[0m\u001b[1;33m\u001b[0m\u001b[0m\n\u001b[0;32m     21\u001b[0m             \u001b[0mta\u001b[0m \u001b[1;33m=\u001b[0m \u001b[0mt\u001b[0m\u001b[1;33m\u001b[0m\u001b[1;33m\u001b[0m\u001b[0m\n",
      "\u001b[1;32m<ipython-input-15-98367ddaba47>\u001b[0m in \u001b[0;36m<lambda>\u001b[1;34m(t)\u001b[0m\n\u001b[0;32m      6\u001b[0m     \u001b[0my\u001b[0m \u001b[1;33m=\u001b[0m \u001b[0mnp\u001b[0m\u001b[1;33m.\u001b[0m\u001b[0mzeros\u001b[0m\u001b[1;33m(\u001b[0m\u001b[0mlen\u001b[0m\u001b[1;33m(\u001b[0m\u001b[0mx\u001b[0m\u001b[1;33m)\u001b[0m\u001b[1;33m,\u001b[0m\u001b[0mdtype\u001b[0m \u001b[1;33m=\u001b[0m \u001b[0mfloat\u001b[0m\u001b[1;33m)\u001b[0m\u001b[1;33m\u001b[0m\u001b[1;33m\u001b[0m\u001b[0m\n\u001b[0;32m      7\u001b[0m     \u001b[1;32mfor\u001b[0m \u001b[0mi\u001b[0m\u001b[1;33m,\u001b[0m\u001b[0mxi\u001b[0m \u001b[1;32min\u001b[0m \u001b[0menumerate\u001b[0m\u001b[1;33m(\u001b[0m\u001b[0mx\u001b[0m\u001b[1;33m)\u001b[0m\u001b[1;33m:\u001b[0m\u001b[1;33m\u001b[0m\u001b[1;33m\u001b[0m\u001b[0m\n\u001b[1;32m----> 8\u001b[1;33m         \u001b[0myi\u001b[0m \u001b[1;33m=\u001b[0m \u001b[0mfind_seed\u001b[0m\u001b[1;33m(\u001b[0m\u001b[1;32mlambda\u001b[0m \u001b[0mt\u001b[0m \u001b[1;33m:\u001b[0m \u001b[0mf\u001b[0m\u001b[1;33m(\u001b[0m\u001b[0mxi\u001b[0m\u001b[1;33m,\u001b[0m\u001b[0mt\u001b[0m\u001b[1;33m)\u001b[0m\u001b[1;33m,\u001b[0m\u001b[0mc\u001b[0m\u001b[1;33m)\u001b[0m\u001b[1;33m\u001b[0m\u001b[1;33m\u001b[0m\u001b[0m\n\u001b[0m\u001b[0;32m      9\u001b[0m         \u001b[1;32mif\u001b[0m \u001b[0myi\u001b[0m \u001b[1;33m==\u001b[0m \u001b[1;32mNone\u001b[0m\u001b[1;33m:\u001b[0m\u001b[1;33m\u001b[0m\u001b[1;33m\u001b[0m\u001b[0m\n\u001b[0;32m     10\u001b[0m             \u001b[0my\u001b[0m\u001b[1;33m[\u001b[0m\u001b[0mi\u001b[0m\u001b[1;33m]\u001b[0m \u001b[1;33m=\u001b[0m \u001b[1;32mNone\u001b[0m\u001b[1;33m\u001b[0m\u001b[1;33m\u001b[0m\u001b[0m\n",
      "\u001b[1;32m<ipython-input-15-98367ddaba47>\u001b[0m in \u001b[0;36mftilde\u001b[1;34m(tx, ty)\u001b[0m\n\u001b[0;32m     29\u001b[0m                 \u001b[0mfonction\u001b[0m \u001b[0mde\u001b[0m \u001b[1;33m[\u001b[0m\u001b[1;36m0\u001b[0m\u001b[1;33m,\u001b[0m\u001b[1;36m1\u001b[0m\u001b[1;33m]\u001b[0m\u001b[0mX\u001b[0m\u001b[1;33m[\u001b[0m\u001b[1;36m0\u001b[0m\u001b[1;33m,\u001b[0m\u001b[1;36m1\u001b[0m\u001b[1;33m]\u001b[0m\u001b[1;33m\u001b[0m\u001b[1;33m\u001b[0m\u001b[0m\n\u001b[0;32m     30\u001b[0m                 \"\"\"\n\u001b[1;32m---> 31\u001b[1;33m                 \u001b[1;32mreturn\u001b[0m\u001b[1;33m(\u001b[0m\u001b[0mf\u001b[0m\u001b[1;33m(\u001b[0m\u001b[0mxa\u001b[0m\u001b[1;33m+\u001b[0m\u001b[1;33m(\u001b[0m\u001b[0mxb\u001b[0m\u001b[1;33m-\u001b[0m\u001b[0mxa\u001b[0m\u001b[1;33m)\u001b[0m\u001b[1;33m*\u001b[0m\u001b[0mtx\u001b[0m\u001b[1;33m,\u001b[0m\u001b[0mya\u001b[0m\u001b[1;33m+\u001b[0m\u001b[1;33m(\u001b[0m\u001b[0myb\u001b[0m\u001b[1;33m-\u001b[0m\u001b[0mya\u001b[0m\u001b[1;33m)\u001b[0m\u001b[1;33m*\u001b[0m\u001b[0mty\u001b[0m\u001b[1;33m)\u001b[0m\u001b[1;33m)\u001b[0m\u001b[1;33m\u001b[0m\u001b[1;33m\u001b[0m\u001b[0m\n\u001b[0m\u001b[0;32m     32\u001b[0m             \u001b[0mTX\u001b[0m\u001b[1;33m,\u001b[0m\u001b[0mTY\u001b[0m \u001b[1;33m=\u001b[0m \u001b[0msimple_contour_naif\u001b[0m\u001b[1;33m(\u001b[0m\u001b[0mftilde\u001b[0m\u001b[1;33m,\u001b[0m\u001b[0mc\u001b[0m\u001b[1;33m,\u001b[0m\u001b[0mdelta\u001b[0m\u001b[1;33m)\u001b[0m\u001b[1;33m\u001b[0m\u001b[1;33m\u001b[0m\u001b[0m\n\u001b[0;32m     33\u001b[0m             \u001b[0mx\u001b[0m\u001b[1;33m,\u001b[0m\u001b[0my\u001b[0m \u001b[1;33m=\u001b[0m \u001b[1;33m(\u001b[0m\u001b[0mxb\u001b[0m\u001b[1;33m-\u001b[0m\u001b[0mxa\u001b[0m\u001b[1;33m)\u001b[0m\u001b[1;33m*\u001b[0m\u001b[0mTX\u001b[0m \u001b[1;33m+\u001b[0m \u001b[0mxa\u001b[0m\u001b[1;33m,\u001b[0m \u001b[1;33m(\u001b[0m\u001b[0myb\u001b[0m\u001b[1;33m-\u001b[0m\u001b[0mya\u001b[0m\u001b[1;33m)\u001b[0m\u001b[1;33m*\u001b[0m\u001b[0mTY\u001b[0m \u001b[1;33m+\u001b[0m \u001b[0mya\u001b[0m\u001b[1;33m\u001b[0m\u001b[1;33m\u001b[0m\u001b[0m\n",
      "\u001b[1;32m<ipython-input-12-97e7d3ef070f>\u001b[0m in \u001b[0;36mf\u001b[1;34m(x, y)\u001b[0m\n\u001b[0;32m      6\u001b[0m     \u001b[0mfonction\u001b[0m \u001b[0mtest\u001b[0m\u001b[1;33m\u001b[0m\u001b[1;33m\u001b[0m\u001b[0m\n\u001b[0;32m      7\u001b[0m     \"\"\"\n\u001b[1;32m----> 8\u001b[1;33m     \u001b[0mres\u001b[0m \u001b[1;33m=\u001b[0m \u001b[1;36m2\u001b[0m\u001b[1;33m*\u001b[0m\u001b[1;33m(\u001b[0m\u001b[0mnp\u001b[0m\u001b[1;33m.\u001b[0m\u001b[0mexp\u001b[0m\u001b[1;33m(\u001b[0m\u001b[1;33m-\u001b[0m\u001b[0mnp\u001b[0m\u001b[1;33m.\u001b[0m\u001b[0mpower\u001b[0m\u001b[1;33m(\u001b[0m\u001b[0mx\u001b[0m\u001b[1;33m,\u001b[0m\u001b[1;36m2\u001b[0m\u001b[1;33m)\u001b[0m\u001b[1;33m-\u001b[0m\u001b[0mnp\u001b[0m\u001b[1;33m.\u001b[0m\u001b[0mpower\u001b[0m\u001b[1;33m(\u001b[0m\u001b[0my\u001b[0m\u001b[1;33m,\u001b[0m\u001b[1;36m2\u001b[0m\u001b[1;33m)\u001b[0m\u001b[1;33m)\u001b[0m\u001b[1;33m-\u001b[0m\u001b[0mnp\u001b[0m\u001b[1;33m.\u001b[0m\u001b[0mexp\u001b[0m\u001b[1;33m(\u001b[0m\u001b[1;33m-\u001b[0m\u001b[0mnp\u001b[0m\u001b[1;33m.\u001b[0m\u001b[0mpower\u001b[0m\u001b[1;33m(\u001b[0m\u001b[0mx\u001b[0m\u001b[1;33m-\u001b[0m\u001b[1;36m1\u001b[0m\u001b[1;33m,\u001b[0m\u001b[1;36m2\u001b[0m\u001b[1;33m)\u001b[0m\u001b[1;33m-\u001b[0m\u001b[0mnp\u001b[0m\u001b[1;33m.\u001b[0m\u001b[0mpower\u001b[0m\u001b[1;33m(\u001b[0m\u001b[0my\u001b[0m\u001b[1;33m-\u001b[0m\u001b[1;36m1\u001b[0m\u001b[1;33m,\u001b[0m\u001b[1;36m2\u001b[0m\u001b[1;33m)\u001b[0m\u001b[1;33m)\u001b[0m\u001b[1;33m)\u001b[0m\u001b[1;33m\u001b[0m\u001b[1;33m\u001b[0m\u001b[0m\n\u001b[0m\u001b[0;32m      9\u001b[0m     \u001b[1;32mreturn\u001b[0m\u001b[1;33m(\u001b[0m\u001b[0mres\u001b[0m\u001b[1;33m)\u001b[0m\u001b[1;33m\u001b[0m\u001b[1;33m\u001b[0m\u001b[0m\n\u001b[0;32m     10\u001b[0m \u001b[1;33m\u001b[0m\u001b[0m\n",
      "\u001b[1;31mKeyboardInterrupt\u001b[0m: "
     ]
    },
    {
     "data": {
      "image/png": "[encoded data removed]",
      "text/plain": [
       "<Figure size 432x288 with 1 Axes>"
      ]
     },
     "metadata": {
      "needs_background": "light"
     },
     "output_type": "display_data"
    }
   ],
   "source": [
    "import matplotlib.pyplot as plt\n",
    "%matplotlib inline\n",
    "\n",
    "for c in [-1.5,-1,-0.5,0,0.5,1,1.5]:\n",
    "    xc, yc = np.linspace(-2.,3.,40), np.linspace(-1.,2.,40)\n",
    "    xs, ys = contour_naif(f,c,xc,yc)\n",
    "    for x,y in zip(xs,ys):\n",
    "        plt.plot(x,y,'-b')\n",
    "plt.show()\n"
   ]
  },
  {
   "cell_type": "markdown",
   "metadata": {},
   "source": [
    "# simple_contour(f,c,delta) version \"méthode de Newton\"\n",
    "\n",
    "Le principe est le suivant:\n",
    "### 1) trouver une racine\n",
    "On utilise pour cela find_seed pour la fonction $g(t) = f(xi,t)$ avec $xi = i.delta$ tant que $xi \\leq 1$. On note le couple trouvé $(xc,yc)$\n",
    "### 2) propagation\n",
    "Le but est ici de trouver une autre racine à une distance delta de $(xc,yc)$. Pour cela, on utilise la méthode de Newton en dimension 2 avec la fonction $F(x,y)=(f(x,y) - c,(x-xc)^{2} + (y-yc)^{2} - delta^{2})$. On aura donc un couple $(x,y)$ qui vérifiera $f(x,y) = c$ et $d((x,y),(xc,yc))=delta$.\n",
    "\n",
    "Il faut cependant trouver un point \"pas trop loin de cette future racine\" pour utiliser Newton. Une idée est de prendre un point à distance $delta$ de $(xc,yc)$ qui est sur la tangente à la courbe $f(x,y)=c$ au point $(xc,yc)$. On connaît un vecteur normal à la courbe avec le gradient: $ \\large{n = \\frac{\\nabla {f}(xc,yc)}{||\\nabla {f}(xc,yc)||}}$. \n",
    "On en déduit deux vecteurs tangent normés: $ T_1 = (-n_{1},n_{0})$ et $T_2 = -T_1$. On peut donc prendre comme point initial de la méthode de Newton $(x_0,y_0) = (xc,yc) + T_1$ ou $(x_0,y_0) = (xc,yc) + T_2$\n",
    "\n",
    "Intérêt des vecteurs tangents: ils définissent le sens de parcours du contour (si la fonction n'est pas trop biscornue). Ainsi, si on pourrait croire que choisir un vecteur tangent nos fait perdre la partie non englobé par le sens de parcours, et bien il suffit donc de faire toute la courbe dans le sens de $T_1$, puis le reste dans le sens de $T_2$.\\\n",
    "Dans le programme suivant on : \\\n",
    "$f(x_{n+1},y_{n+1})=f(x_{n},y_{n})+ J_f(x_n,y_n)\\times \\begin{pmatrix} \n",
    " x_{n+1}-x_n \\\\ \n",
    " y_{n+1}-y_n \\\\ \n",
    " \\end{pmatrix}\\\\\n",
    " f(x_{n+1},y_{n+1})\\simeq c= \\begin{pmatrix} \n",
    " f_x \\\\ \n",
    " f_y \\\\ \n",
    " \\end{pmatrix}\\\\ \\begin{pmatrix} \n",
    " x_{n+1} \\\\ \n",
    " y_{n+1} \\\\ \n",
    " \\end{pmatrix}= \n",
    " \\begin{pmatrix} \n",
    " x_n \\\\ \n",
    " y_n \\\\ \n",
    " \\end{pmatrix} + J_f^{-1}(x_n,y_n)\\times (c- f(x_n,y_n))$"
   ]
  },
  {
   "cell_type": "code",
   "execution_count": 1,
   "metadata": {},
   "outputs": [],
   "source": [
    "import autograd\n",
    "from autograd import numpy as np\n",
    "\n",
    "def newton_2D(f, x0, y0, fx = 0, fy = 0, eps = 2**(-26)):\n",
    "    \"\"\"\n",
    "    méthode de newton pour f une fonction de R² dans R²\n",
    "    renvoie un couple (x0,y0) qui représente les coordonnées d'une solution au \n",
    "    problème f(x,y) = (fx,fy)\n",
    "    \"\"\"\n",
    "    def J_f(x,y):\n",
    "        \"\"\"\n",
    "        donne le jacobien de f au point de coordonnées (x,y)\n",
    "        sous la forme d'une matrice carrée\n",
    "        \"\"\"\n",
    "        j = autograd.jacobian\n",
    "        return np.c_[j(f,0)(x,y), j(f,1)(x,y)]\n",
    "    \n",
    "    imx, imy = f(x0,y0)\n",
    "    c = np.array([[fx],\n",
    "                  [fy]])\n",
    "    pos = np.array([[x0],\n",
    "                    [y0]])\n",
    "    im = np.array([[imx],\n",
    "                    [imy]])\n",
    "    while max(abs(imx - fx), abs(imy - fy)) > eps:\n",
    "        J = J_f(x0,y0)\n",
    "        a,b,c,d = J[0,0],J[0,1],J[1,0],J[1,1]\n",
    "        #test inversibilite de J\n",
    "        if a*d-b*c == 0:\n",
    "            raise ValueError(\"matrice non inversible\")\n",
    "        pos = pos + np.dot(np.linalg.inv(J),c-im)\n",
    "        x0,y0 = pos[0][0],pos[1][0]\n",
    "        imx,imy = f(x0,y0)[0], f(x0,y0)[1]\n",
    "        pos = np.array([[x0],\n",
    "                    [y0]])\n",
    "        im = np.array([[imx],\n",
    "                    [imy]])\n",
    "    \n",
    "    return(x0,y0)"
   ]
  },
  {
   "cell_type": "code",
   "execution_count": 3,
   "metadata": {},
   "outputs": [
    {
     "ename": "SyntaxError",
     "evalue": "invalid syntax (<ipython-input-3-7d11be2c0e66>, line 1)",
     "output_type": "error",
     "traceback": [
      "\u001b[1;36m  File \u001b[1;32m\"<ipython-input-3-7d11be2c0e66>\"\u001b[1;36m, line \u001b[1;32m1\u001b[0m\n\u001b[1;33m    np._c()?\u001b[0m\n\u001b[1;37m           ^\u001b[0m\n\u001b[1;31mSyntaxError\u001b[0m\u001b[1;31m:\u001b[0m invalid syntax\n"
     ]
    }
   ],
   "source": []
  },
  {
   "cell_type": "code",
   "execution_count": 5,
   "metadata": {},
   "outputs": [],
   "source": [
    "def grad_f(f,x,y):\n",
    "    \"\"\"\n",
    "    donne le gradient de la fonction à valeurs réelles au point de coordonnées (x,y)\n",
    "    sous la forme d'un vecteur ligne\n",
    "    \"\"\"\n",
    "    g = autograd.grad\n",
    "    return np.r_[g(f,0)(x,y),g(f,1)(x,y)]"
   ]
  },
  {
   "cell_type": "code",
   "execution_count": 6,
   "metadata": {},
   "outputs": [
    {
     "name": "stderr",
     "output_type": "stream",
     "text": [
      "C:\\ProgramData\\Anaconda3\\lib\\site-packages\\autograd\\tracer.py:14: UserWarning: Output seems independent of input.\n",
      "  warnings.warn(\"Output seems independent of input.\")\n"
     ]
    },
    {
     "ename": "TypeError",
     "evalue": "'ArrayVSpace' object cannot be interpreted as an integer",
     "output_type": "error",
     "traceback": [
      "\u001b[1;31m---------------------------------------------------------------------------\u001b[0m",
      "\u001b[1;31mTypeError\u001b[0m                                 Traceback (most recent call last)",
      "\u001b[1;32mC:\\ProgramData\\Anaconda3\\lib\\site-packages\\numpy\\core\\fromnumeric.py\u001b[0m in \u001b[0;36m_wrapfunc\u001b[1;34m(obj, method, *args, **kwds)\u001b[0m\n\u001b[0;32m     55\u001b[0m     \u001b[1;32mtry\u001b[0m\u001b[1;33m:\u001b[0m\u001b[1;33m\u001b[0m\u001b[1;33m\u001b[0m\u001b[0m\n\u001b[1;32m---> 56\u001b[1;33m         \u001b[1;32mreturn\u001b[0m \u001b[0mgetattr\u001b[0m\u001b[1;33m(\u001b[0m\u001b[0mobj\u001b[0m\u001b[1;33m,\u001b[0m \u001b[0mmethod\u001b[0m\u001b[1;33m)\u001b[0m\u001b[1;33m(\u001b[0m\u001b[1;33m*\u001b[0m\u001b[0margs\u001b[0m\u001b[1;33m,\u001b[0m \u001b[1;33m**\u001b[0m\u001b[0mkwds\u001b[0m\u001b[1;33m)\u001b[0m\u001b[1;33m\u001b[0m\u001b[1;33m\u001b[0m\u001b[0m\n\u001b[0m\u001b[0;32m     57\u001b[0m \u001b[1;33m\u001b[0m\u001b[0m\n",
      "\u001b[1;31mTypeError\u001b[0m: 'ArrayVSpace' object cannot be interpreted as an integer",
      "\nDuring handling of the above exception, another exception occurred:\n",
      "\u001b[1;31mTypeError\u001b[0m                                 Traceback (most recent call last)",
      "\u001b[1;32m<ipython-input-6-7a218035b611>\u001b[0m in \u001b[0;36m<module>\u001b[1;34m\u001b[0m\n\u001b[0;32m      1\u001b[0m \u001b[1;32mdef\u001b[0m \u001b[0mG\u001b[0m\u001b[1;33m(\u001b[0m\u001b[0mx\u001b[0m\u001b[1;33m,\u001b[0m\u001b[0my\u001b[0m\u001b[1;33m)\u001b[0m\u001b[1;33m:\u001b[0m\u001b[1;33m\u001b[0m\u001b[1;33m\u001b[0m\u001b[0m\n\u001b[0;32m      2\u001b[0m     \u001b[1;32mreturn\u001b[0m\u001b[1;33m(\u001b[0m\u001b[0mg\u001b[0m\u001b[1;33m(\u001b[0m\u001b[0mx\u001b[0m\u001b[1;33m,\u001b[0m\u001b[0my\u001b[0m\u001b[1;33m)\u001b[0m\u001b[1;33m,\u001b[0m\u001b[0mg\u001b[0m\u001b[1;33m(\u001b[0m\u001b[0mx\u001b[0m\u001b[1;33m-\u001b[0m\u001b[1;36m1\u001b[0m\u001b[1;33m,\u001b[0m\u001b[0my\u001b[0m\u001b[1;33m)\u001b[0m\u001b[1;33m)\u001b[0m\u001b[1;33m\u001b[0m\u001b[1;33m\u001b[0m\u001b[0m\n\u001b[1;32m----> 3\u001b[1;33m \u001b[0mnewton_2D\u001b[0m\u001b[1;33m(\u001b[0m\u001b[0mG\u001b[0m\u001b[1;33m,\u001b[0m\u001b[1;36m0.5\u001b[0m\u001b[1;33m,\u001b[0m\u001b[1;36m0.5\u001b[0m\u001b[1;33m,\u001b[0m\u001b[1;36m1\u001b[0m\u001b[1;33m,\u001b[0m\u001b[1;36m1\u001b[0m\u001b[1;33m)\u001b[0m\u001b[1;33m\u001b[0m\u001b[1;33m\u001b[0m\u001b[0m\n\u001b[0m",
      "\u001b[1;32m<ipython-input-4-47938fd7f09d>\u001b[0m in \u001b[0;36mnewton_2D\u001b[1;34m(f, x0, y0, fx, fy, eps)\u001b[0m\n\u001b[0;32m     24\u001b[0m                     [imy]])\n\u001b[0;32m     25\u001b[0m     \u001b[1;32mwhile\u001b[0m \u001b[0mmax\u001b[0m\u001b[1;33m(\u001b[0m\u001b[0mabs\u001b[0m\u001b[1;33m(\u001b[0m\u001b[0mimx\u001b[0m \u001b[1;33m-\u001b[0m \u001b[0mfx\u001b[0m\u001b[1;33m)\u001b[0m\u001b[1;33m,\u001b[0m \u001b[0mabs\u001b[0m\u001b[1;33m(\u001b[0m\u001b[0mimy\u001b[0m \u001b[1;33m-\u001b[0m \u001b[0mfy\u001b[0m\u001b[1;33m)\u001b[0m\u001b[1;33m)\u001b[0m \u001b[1;33m>\u001b[0m \u001b[0meps\u001b[0m\u001b[1;33m:\u001b[0m\u001b[1;33m\u001b[0m\u001b[1;33m\u001b[0m\u001b[0m\n\u001b[1;32m---> 26\u001b[1;33m         \u001b[0mJ\u001b[0m \u001b[1;33m=\u001b[0m \u001b[0mJ_f\u001b[0m\u001b[1;33m(\u001b[0m\u001b[0mx0\u001b[0m\u001b[1;33m,\u001b[0m\u001b[0my0\u001b[0m\u001b[1;33m)\u001b[0m\u001b[1;33m\u001b[0m\u001b[1;33m\u001b[0m\u001b[0m\n\u001b[0m\u001b[0;32m     27\u001b[0m         \u001b[0ma\u001b[0m\u001b[1;33m,\u001b[0m\u001b[0mb\u001b[0m\u001b[1;33m,\u001b[0m\u001b[0mc\u001b[0m\u001b[1;33m,\u001b[0m\u001b[0md\u001b[0m \u001b[1;33m=\u001b[0m \u001b[0mJ\u001b[0m\u001b[1;33m[\u001b[0m\u001b[1;36m0\u001b[0m\u001b[1;33m,\u001b[0m\u001b[1;36m0\u001b[0m\u001b[1;33m]\u001b[0m\u001b[1;33m,\u001b[0m\u001b[0mJ\u001b[0m\u001b[1;33m[\u001b[0m\u001b[1;36m0\u001b[0m\u001b[1;33m,\u001b[0m\u001b[1;36m1\u001b[0m\u001b[1;33m]\u001b[0m\u001b[1;33m,\u001b[0m\u001b[0mJ\u001b[0m\u001b[1;33m[\u001b[0m\u001b[1;36m1\u001b[0m\u001b[1;33m,\u001b[0m\u001b[1;36m0\u001b[0m\u001b[1;33m]\u001b[0m\u001b[1;33m,\u001b[0m\u001b[0mJ\u001b[0m\u001b[1;33m[\u001b[0m\u001b[1;36m1\u001b[0m\u001b[1;33m,\u001b[0m\u001b[1;36m1\u001b[0m\u001b[1;33m]\u001b[0m\u001b[1;33m\u001b[0m\u001b[1;33m\u001b[0m\u001b[0m\n\u001b[0;32m     28\u001b[0m         \u001b[1;31m#test inversibilite de J\u001b[0m\u001b[1;33m\u001b[0m\u001b[1;33m\u001b[0m\u001b[1;33m\u001b[0m\u001b[0m\n",
      "\u001b[1;32m<ipython-input-4-47938fd7f09d>\u001b[0m in \u001b[0;36mJ_f\u001b[1;34m(x, y)\u001b[0m\n\u001b[0;32m     14\u001b[0m         \"\"\"\n\u001b[0;32m     15\u001b[0m         \u001b[0mj\u001b[0m \u001b[1;33m=\u001b[0m \u001b[0mautograd\u001b[0m\u001b[1;33m.\u001b[0m\u001b[0mjacobian\u001b[0m\u001b[1;33m\u001b[0m\u001b[1;33m\u001b[0m\u001b[0m\n\u001b[1;32m---> 16\u001b[1;33m         \u001b[1;32mreturn\u001b[0m \u001b[0mnp\u001b[0m\u001b[1;33m.\u001b[0m\u001b[0mc_\u001b[0m\u001b[1;33m[\u001b[0m\u001b[0mj\u001b[0m\u001b[1;33m(\u001b[0m\u001b[0mf\u001b[0m\u001b[1;33m,\u001b[0m\u001b[1;36m0\u001b[0m\u001b[1;33m)\u001b[0m\u001b[1;33m(\u001b[0m\u001b[0mx\u001b[0m\u001b[1;33m,\u001b[0m\u001b[0my\u001b[0m\u001b[1;33m)\u001b[0m\u001b[1;33m,\u001b[0m \u001b[0mj\u001b[0m\u001b[1;33m(\u001b[0m\u001b[0mf\u001b[0m\u001b[1;33m,\u001b[0m\u001b[1;36m1\u001b[0m\u001b[1;33m)\u001b[0m\u001b[1;33m(\u001b[0m\u001b[0mx\u001b[0m\u001b[1;33m,\u001b[0m\u001b[0my\u001b[0m\u001b[1;33m)\u001b[0m\u001b[1;33m]\u001b[0m\u001b[1;33m\u001b[0m\u001b[1;33m\u001b[0m\u001b[0m\n\u001b[0m\u001b[0;32m     17\u001b[0m \u001b[1;33m\u001b[0m\u001b[0m\n\u001b[0;32m     18\u001b[0m     \u001b[0mimx\u001b[0m\u001b[1;33m,\u001b[0m \u001b[0mimy\u001b[0m \u001b[1;33m=\u001b[0m \u001b[0mf\u001b[0m\u001b[1;33m(\u001b[0m\u001b[0mx0\u001b[0m\u001b[1;33m,\u001b[0m\u001b[0my0\u001b[0m\u001b[1;33m)\u001b[0m\u001b[1;33m\u001b[0m\u001b[1;33m\u001b[0m\u001b[0m\n",
      "\u001b[1;32mC:\\ProgramData\\Anaconda3\\lib\\site-packages\\autograd\\wrap_util.py\u001b[0m in \u001b[0;36mnary_f\u001b[1;34m(*args, **kwargs)\u001b[0m\n\u001b[0;32m     18\u001b[0m             \u001b[1;32melse\u001b[0m\u001b[1;33m:\u001b[0m\u001b[1;33m\u001b[0m\u001b[1;33m\u001b[0m\u001b[0m\n\u001b[0;32m     19\u001b[0m                 \u001b[0mx\u001b[0m \u001b[1;33m=\u001b[0m \u001b[0mtuple\u001b[0m\u001b[1;33m(\u001b[0m\u001b[0margs\u001b[0m\u001b[1;33m[\u001b[0m\u001b[0mi\u001b[0m\u001b[1;33m]\u001b[0m \u001b[1;32mfor\u001b[0m \u001b[0mi\u001b[0m \u001b[1;32min\u001b[0m \u001b[0margnum\u001b[0m\u001b[1;33m)\u001b[0m\u001b[1;33m\u001b[0m\u001b[1;33m\u001b[0m\u001b[0m\n\u001b[1;32m---> 20\u001b[1;33m             \u001b[1;32mreturn\u001b[0m \u001b[0munary_operator\u001b[0m\u001b[1;33m(\u001b[0m\u001b[0munary_f\u001b[0m\u001b[1;33m,\u001b[0m \u001b[0mx\u001b[0m\u001b[1;33m,\u001b[0m \u001b[1;33m*\u001b[0m\u001b[0mnary_op_args\u001b[0m\u001b[1;33m,\u001b[0m \u001b[1;33m**\u001b[0m\u001b[0mnary_op_kwargs\u001b[0m\u001b[1;33m)\u001b[0m\u001b[1;33m\u001b[0m\u001b[1;33m\u001b[0m\u001b[0m\n\u001b[0m\u001b[0;32m     21\u001b[0m         \u001b[1;32mreturn\u001b[0m \u001b[0mnary_f\u001b[0m\u001b[1;33m\u001b[0m\u001b[1;33m\u001b[0m\u001b[0m\n\u001b[0;32m     22\u001b[0m     \u001b[1;32mreturn\u001b[0m \u001b[0mnary_operator\u001b[0m\u001b[1;33m\u001b[0m\u001b[1;33m\u001b[0m\u001b[0m\n",
      "\u001b[1;32mC:\\ProgramData\\Anaconda3\\lib\\site-packages\\autograd\\differential_operators.py\u001b[0m in \u001b[0;36mjacobian\u001b[1;34m(fun, x)\u001b[0m\n\u001b[0;32m     59\u001b[0m     \u001b[0mjacobian_shape\u001b[0m \u001b[1;33m=\u001b[0m \u001b[0mans_vspace\u001b[0m\u001b[1;33m.\u001b[0m\u001b[0mshape\u001b[0m \u001b[1;33m+\u001b[0m \u001b[0mvspace\u001b[0m\u001b[1;33m(\u001b[0m\u001b[0mx\u001b[0m\u001b[1;33m)\u001b[0m\u001b[1;33m.\u001b[0m\u001b[0mshape\u001b[0m\u001b[1;33m\u001b[0m\u001b[1;33m\u001b[0m\u001b[0m\n\u001b[0;32m     60\u001b[0m     \u001b[0mgrads\u001b[0m \u001b[1;33m=\u001b[0m \u001b[0mmap\u001b[0m\u001b[1;33m(\u001b[0m\u001b[0mvjp\u001b[0m\u001b[1;33m,\u001b[0m \u001b[0mans_vspace\u001b[0m\u001b[1;33m.\u001b[0m\u001b[0mstandard_basis\u001b[0m\u001b[1;33m(\u001b[0m\u001b[1;33m)\u001b[0m\u001b[1;33m)\u001b[0m\u001b[1;33m\u001b[0m\u001b[1;33m\u001b[0m\u001b[0m\n\u001b[1;32m---> 61\u001b[1;33m     \u001b[1;32mreturn\u001b[0m \u001b[0mnp\u001b[0m\u001b[1;33m.\u001b[0m\u001b[0mreshape\u001b[0m\u001b[1;33m(\u001b[0m\u001b[0mnp\u001b[0m\u001b[1;33m.\u001b[0m\u001b[0mstack\u001b[0m\u001b[1;33m(\u001b[0m\u001b[0mgrads\u001b[0m\u001b[1;33m)\u001b[0m\u001b[1;33m,\u001b[0m \u001b[0mjacobian_shape\u001b[0m\u001b[1;33m)\u001b[0m\u001b[1;33m\u001b[0m\u001b[1;33m\u001b[0m\u001b[0m\n\u001b[0m\u001b[0;32m     62\u001b[0m \u001b[1;33m\u001b[0m\u001b[0m\n\u001b[0;32m     63\u001b[0m \u001b[1;33m@\u001b[0m\u001b[0munary_to_nary\u001b[0m\u001b[1;33m\u001b[0m\u001b[1;33m\u001b[0m\u001b[0m\n",
      "\u001b[1;32mC:\\ProgramData\\Anaconda3\\lib\\site-packages\\autograd\\tracer.py\u001b[0m in \u001b[0;36mf_wrapped\u001b[1;34m(*args, **kwargs)\u001b[0m\n\u001b[0;32m     46\u001b[0m             \u001b[1;32mreturn\u001b[0m \u001b[0mnew_box\u001b[0m\u001b[1;33m(\u001b[0m\u001b[0mans\u001b[0m\u001b[1;33m,\u001b[0m \u001b[0mtrace\u001b[0m\u001b[1;33m,\u001b[0m \u001b[0mnode\u001b[0m\u001b[1;33m)\u001b[0m\u001b[1;33m\u001b[0m\u001b[1;33m\u001b[0m\u001b[0m\n\u001b[0;32m     47\u001b[0m         \u001b[1;32melse\u001b[0m\u001b[1;33m:\u001b[0m\u001b[1;33m\u001b[0m\u001b[1;33m\u001b[0m\u001b[0m\n\u001b[1;32m---> 48\u001b[1;33m             \u001b[1;32mreturn\u001b[0m \u001b[0mf_raw\u001b[0m\u001b[1;33m(\u001b[0m\u001b[1;33m*\u001b[0m\u001b[0margs\u001b[0m\u001b[1;33m,\u001b[0m \u001b[1;33m**\u001b[0m\u001b[0mkwargs\u001b[0m\u001b[1;33m)\u001b[0m\u001b[1;33m\u001b[0m\u001b[1;33m\u001b[0m\u001b[0m\n\u001b[0m\u001b[0;32m     49\u001b[0m     \u001b[0mf_wrapped\u001b[0m\u001b[1;33m.\u001b[0m\u001b[0mfun\u001b[0m \u001b[1;33m=\u001b[0m \u001b[0mf_raw\u001b[0m\u001b[1;33m\u001b[0m\u001b[1;33m\u001b[0m\u001b[0m\n\u001b[0;32m     50\u001b[0m     \u001b[0mf_wrapped\u001b[0m\u001b[1;33m.\u001b[0m\u001b[0m_is_autograd_primitive\u001b[0m \u001b[1;33m=\u001b[0m \u001b[1;32mTrue\u001b[0m\u001b[1;33m\u001b[0m\u001b[1;33m\u001b[0m\u001b[0m\n",
      "\u001b[1;32mC:\\ProgramData\\Anaconda3\\lib\\site-packages\\numpy\\core\\fromnumeric.py\u001b[0m in \u001b[0;36mreshape\u001b[1;34m(a, newshape, order)\u001b[0m\n\u001b[0;32m    290\u001b[0m            [5, 6]])\n\u001b[0;32m    291\u001b[0m     \"\"\"\n\u001b[1;32m--> 292\u001b[1;33m     \u001b[1;32mreturn\u001b[0m \u001b[0m_wrapfunc\u001b[0m\u001b[1;33m(\u001b[0m\u001b[0ma\u001b[0m\u001b[1;33m,\u001b[0m \u001b[1;34m'reshape'\u001b[0m\u001b[1;33m,\u001b[0m \u001b[0mnewshape\u001b[0m\u001b[1;33m,\u001b[0m \u001b[0morder\u001b[0m\u001b[1;33m=\u001b[0m\u001b[0morder\u001b[0m\u001b[1;33m)\u001b[0m\u001b[1;33m\u001b[0m\u001b[1;33m\u001b[0m\u001b[0m\n\u001b[0m\u001b[0;32m    293\u001b[0m \u001b[1;33m\u001b[0m\u001b[0m\n\u001b[0;32m    294\u001b[0m \u001b[1;33m\u001b[0m\u001b[0m\n",
      "\u001b[1;32mC:\\ProgramData\\Anaconda3\\lib\\site-packages\\numpy\\core\\fromnumeric.py\u001b[0m in \u001b[0;36m_wrapfunc\u001b[1;34m(obj, method, *args, **kwds)\u001b[0m\n\u001b[0;32m     64\u001b[0m     \u001b[1;31m# a downstream library like 'pandas'.\u001b[0m\u001b[1;33m\u001b[0m\u001b[1;33m\u001b[0m\u001b[1;33m\u001b[0m\u001b[0m\n\u001b[0;32m     65\u001b[0m     \u001b[1;32mexcept\u001b[0m \u001b[1;33m(\u001b[0m\u001b[0mAttributeError\u001b[0m\u001b[1;33m,\u001b[0m \u001b[0mTypeError\u001b[0m\u001b[1;33m)\u001b[0m\u001b[1;33m:\u001b[0m\u001b[1;33m\u001b[0m\u001b[1;33m\u001b[0m\u001b[0m\n\u001b[1;32m---> 66\u001b[1;33m         \u001b[1;32mreturn\u001b[0m \u001b[0m_wrapit\u001b[0m\u001b[1;33m(\u001b[0m\u001b[0mobj\u001b[0m\u001b[1;33m,\u001b[0m \u001b[0mmethod\u001b[0m\u001b[1;33m,\u001b[0m \u001b[1;33m*\u001b[0m\u001b[0margs\u001b[0m\u001b[1;33m,\u001b[0m \u001b[1;33m**\u001b[0m\u001b[0mkwds\u001b[0m\u001b[1;33m)\u001b[0m\u001b[1;33m\u001b[0m\u001b[1;33m\u001b[0m\u001b[0m\n\u001b[0m\u001b[0;32m     67\u001b[0m \u001b[1;33m\u001b[0m\u001b[0m\n\u001b[0;32m     68\u001b[0m \u001b[1;33m\u001b[0m\u001b[0m\n",
      "\u001b[1;32mC:\\ProgramData\\Anaconda3\\lib\\site-packages\\numpy\\core\\fromnumeric.py\u001b[0m in \u001b[0;36m_wrapit\u001b[1;34m(obj, method, *args, **kwds)\u001b[0m\n\u001b[0;32m     44\u001b[0m     \u001b[1;32mexcept\u001b[0m \u001b[0mAttributeError\u001b[0m\u001b[1;33m:\u001b[0m\u001b[1;33m\u001b[0m\u001b[1;33m\u001b[0m\u001b[0m\n\u001b[0;32m     45\u001b[0m         \u001b[0mwrap\u001b[0m \u001b[1;33m=\u001b[0m \u001b[1;32mNone\u001b[0m\u001b[1;33m\u001b[0m\u001b[1;33m\u001b[0m\u001b[0m\n\u001b[1;32m---> 46\u001b[1;33m     \u001b[0mresult\u001b[0m \u001b[1;33m=\u001b[0m \u001b[0mgetattr\u001b[0m\u001b[1;33m(\u001b[0m\u001b[0masarray\u001b[0m\u001b[1;33m(\u001b[0m\u001b[0mobj\u001b[0m\u001b[1;33m)\u001b[0m\u001b[1;33m,\u001b[0m \u001b[0mmethod\u001b[0m\u001b[1;33m)\u001b[0m\u001b[1;33m(\u001b[0m\u001b[1;33m*\u001b[0m\u001b[0margs\u001b[0m\u001b[1;33m,\u001b[0m \u001b[1;33m**\u001b[0m\u001b[0mkwds\u001b[0m\u001b[1;33m)\u001b[0m\u001b[1;33m\u001b[0m\u001b[1;33m\u001b[0m\u001b[0m\n\u001b[0m\u001b[0;32m     47\u001b[0m     \u001b[1;32mif\u001b[0m \u001b[0mwrap\u001b[0m\u001b[1;33m:\u001b[0m\u001b[1;33m\u001b[0m\u001b[1;33m\u001b[0m\u001b[0m\n\u001b[0;32m     48\u001b[0m         \u001b[1;32mif\u001b[0m \u001b[1;32mnot\u001b[0m \u001b[0misinstance\u001b[0m\u001b[1;33m(\u001b[0m\u001b[0mresult\u001b[0m\u001b[1;33m,\u001b[0m \u001b[0mmu\u001b[0m\u001b[1;33m.\u001b[0m\u001b[0mndarray\u001b[0m\u001b[1;33m)\u001b[0m\u001b[1;33m:\u001b[0m\u001b[1;33m\u001b[0m\u001b[1;33m\u001b[0m\u001b[0m\n",
      "\u001b[1;31mTypeError\u001b[0m: 'ArrayVSpace' object cannot be interpreted as an integer"
     ]
    }
   ],
   "source": [
    "def G(x,y):\n",
    "    return(g(x,y),g(x-1,y))\n",
    "newton_2D(G,0.5,0.5,1,1)\n"
   ]
  },
  {
   "cell_type": "markdown",
   "metadata": {},
   "source": []
  },
  {
   "cell_type": "code",
   "execution_count": 11,
   "metadata": {},
   "outputs": [
    {
     "name": "stdout",
     "output_type": "stream",
     "text": [
      "55.72538757324219\n"
     ]
    },
    {
     "data": {
      "image/png": "[encoded data removed]",
      "text/plain": [
       "<Figure size 432x288 with 1 Axes>"
      ]
     },
     "metadata": {
      "needs_background": "light"
     },
     "output_type": "display_data"
    }
   ],
   "source": [
    "from scipy.optimize import newton\n",
    "\n",
    "\n",
    "\n",
    "def grad_f(f,x,y):\n",
    "    \"\"\"\n",
    "    donne le gradient de la fonction à valeurs réelles au point de coordonnées (x,y)\n",
    "    sous la forme d'un vecteur ligne\n",
    "    \"\"\"\n",
    "    g = autograd.grad\n",
    "    return np.r_[g(f,0)(x,y),g(f,1)(x,y)]\n",
    "\n",
    "\n",
    "def simple_contour_sc(f,c=0.0,delta = 0.01,):\n",
    "    \"\"\"\n",
    "    renvoie une partie de courbe de niveau\n",
    "    \"\"\"\n",
    "    maxiter = int(10/delta)\n",
    "    x,y = [],[]\n",
    "    exist_seed = False\n",
    "    i = 0\n",
    "    while not exist_seed:\n",
    "        if i * delta > 1:\n",
    "            return(np.array([],dtype = float),np.array([],dtype = float))\n",
    "        yi = find_seed(lambda t: f(i*delta,t),c)\n",
    "        if yi == None:\n",
    "            i += 1\n",
    "        else:\n",
    "            x.append(i*delta)\n",
    "            y.append(yi)\n",
    "            exist_seed = True\n",
    "    Xc, Yc = x[-1], y[-1]\n",
    "    N = 0\n",
    "    xc,yc = Xc, Yc\n",
    "    while N < maxiter:\n",
    "        grad = grad_f(f,xc,yc)\n",
    "        tangent = np.array([-grad[1],grad[0]])/np.power(grad[0]**2 + grad[1]**2,1/2)*delta\n",
    "        x0, y0 = xc + tangent[0], yc + tangent[1]\n",
    "        def F(t):\n",
    "            return (f(x0+t*grad[0],y0+t*grad[1])-c)\n",
    "        tc = newton(F, 0)\n",
    "        xc, yc = x0 + tc*grad[0], y0 + tc*grad[1]\n",
    "        if xc<0 or xc>1 or yc<0 or yc >1:\n",
    "            N = maxiter\n",
    "        else:\n",
    "            x.append(xc)\n",
    "            y.append(yc)\n",
    "            N += 1\n",
    "    x.reverse()\n",
    "    y.reverse()\n",
    "    N = 0\n",
    "    xc,yc = Xc, Yc\n",
    "    while N <= maxiter:\n",
    "        grad = grad_f(f,xc,yc)\n",
    "        tangent = np.array([grad[1],-grad[0]])/np.power(grad[0]**2 + grad[1]**2,1/2)*delta\n",
    "        x0, y0 = xc + tangent[0], yc + tangent[1]\n",
    "        def F(t):\n",
    "            return (f(x0+t*grad[0],y0+t*grad[1])-c)\n",
    "        tc = newton(F, 0)\n",
    "        xc, yc = x0 + tc*grad[0], y0 + tc*grad[1]\n",
    "        if xc<0 or xc>1 or yc<0 or yc >1:\n",
    "            return(np.array(x),np.array(y))\n",
    "        x.append(xc)\n",
    "        y.append(yc)\n",
    "        N += 1\n",
    "    return(np.array(x),np.array(y))\n",
    "\n",
    "\n",
    "def contour_sc(f, c=0.0, xc=[0.0,1.0], yc=[0.0,1.0], delta=0.01):\n",
    "    \"\"\"\n",
    "    renvoie des fragments pour chaque case du quadrillage (xc,yc)\n",
    "    \"\"\"\n",
    "    nx = len(xc)\n",
    "    ny = len(yc)\n",
    "    xs = []\n",
    "    ys = []\n",
    "    for i in range(0,nx-1):\n",
    "        xa,xb = xc[i],xc[i+1]\n",
    "        for j in range(0,ny-1):\n",
    "            ya,yb = yc[j],yc[j+1]\n",
    "            def ftilde(tx,ty):\n",
    "                \"\"\"\n",
    "                fonction de [0,1]X[0,1]\n",
    "                \"\"\"\n",
    "                return(f(xa+(xb-xa)*tx,ya+(yb-ya)*ty))\n",
    "            TX,TY = simple_contour_sc(ftilde,c,delta)\n",
    "            x,y = (xb-xa)*TX + xa, (yb-ya)*TY + ya\n",
    "            xs.append(x)\n",
    "            ys.append(y)\n",
    "    return(xs,ys)\n",
    "\n",
    "import time\n",
    "\n",
    "top = time.time()\n",
    "for i,c in enumerate([-1.5,-1.,-0.5,0,0.5,1.,1.5]):\n",
    "    xc, yc = np.linspace(-2.,3.,20), np.linspace(-1.,2.,20)\n",
    "    xs, ys = contour_sc(f,c,xc,yc)\n",
    "    for x,y in zip(xs,ys):\n",
    "        plt.plot(x,y,'b')\n",
    "\n",
    "print(time.time()-top)\n",
    "plt.show()\n"
   ]
  },
  {
   "cell_type": "code",
   "execution_count": null,
   "metadata": {},
   "outputs": [],
   "source": []
  }
 ],
 "metadata": {
  "kernelspec": {
   "display_name": "Python 3",
   "language": "python",
   "name": "python3"
  },
  "language_info": {
   "codemirror_mode": {
    "name": "ipython",
    "version": 3
   },
   "file_extension": ".py",
   "mimetype": "text/x-python",
   "name": "python",
   "nbconvert_exporter": "python",
   "pygments_lexer": "ipython3",
   "version": "3.7.3"
  }
 },
 "nbformat": 4,
 "nbformat_minor": 2
}
