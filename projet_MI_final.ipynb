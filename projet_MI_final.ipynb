{
 "cells": [
  {
   "cell_type": "markdown",
   "metadata": {},
   "source": [
    "# Projet Math-Info: Lignes de niveau\n",
    "  $\\quad$L’objectif de ce projet numérique est de développer un programme Python permettant de calculer les lignes de niveau d’une fonction $f$ de deux variables réelles et à valeurs réelles (supposée continûment différentiable), c’est-à-dire les ensembles de la forme\\\n",
    "$ \\bf{\\qquad {(x,y)∈ R^{2}|f(x,y)=c}}$ où $\\bf{c∈R}.$ \\\n",
    "La représentation graphique de ces courbes est un tracé de contour (cf. les\n",
    "exemples d’usage de la fonction contour de matplotlib).\n",
    "## Sommaire:\n",
    " ### - find_seed\n",
    " ### - contour\n",
    " ### - simple_contour version \"naïve\"\n",
    " ### - simple_contour version \"méthode de Newton\""
   ]
  },
  {
   "cell_type": "code",
   "execution_count": 34,
   "metadata": {},
   "outputs": [],
   "source": [
    "from math import *\n",
    "import numpy as np\n",
    "\n",
    "def f(x,y):\n",
    "    \"\"\"\n",
    "    fonction test\n",
    "    \"\"\"\n",
    "    res = 2*(np.exp(-np.power(x,2)-np.power(y,2))-np.exp(-np.power(x-1,2)-np.power(y-1,2)))\n",
    "    return(res)\n",
    "\n",
    "def g(x,y):\n",
    "    \"\"\"\n",
    "    fonction test\n",
    "    \"\"\"\n",
    "    return(np.power(np.power(x,2)+np.power(y,2),0.5))"
   ]
  },
  {
   "cell_type": "markdown",
   "metadata": {},
   "source": [
    "## find_seed(g,c,delta)\n",
    "\n",
    "### Remarque : \n",
    " Ici par rapport aux notations des polycopiés, on a g qui est fonction d'une seule variable, c'est à dire par exemple $g(t) = f(0,t)$ pour tout t appartenant à $[0,1]$."
   ]
  },
  {
   "cell_type": "markdown",
   "metadata": {},
   "source": [
    "Une condition raisonnable sur $f, c, f(0,0)$ et  $f(0,1)$ (ou sur $g, c, g(0)$ et  $g(1))$ \\\n",
    "On peut demander au minimum $f   C^{0}$ et $ \\min{(f(0,0),f(0,1))} \\leq c \\leq \\max{(f(0,0),f(0,1))}$ ou encore plus généralement $g \\ C^{0}$ et $\\min{(g(0),g(1))} \\leq c \\leq \\max{(g(0),g(1))}$. \\\n",
    " Cela garantit en effet que c appartient à $g([0,1]) = f({0}\\times[0,1])$ par le théorème des valeurs intermédiaires.\n",
    " \n",
    " Ce n'est pas une condition nécéssaire puisqu'il serait nécessaire et suffisant pour une fonction continue d'avoir $\\inf(f) \\leq c \\leq \\sup(f)$ sur $[0,1]$, mais cette condition est minimale pour une condition portant sur $g, g(0)$ et $g(1)$ puisqu'il existe des fonctions non continues vérifiant $\\min{(g(0),g(1))} \\leq c \\leq \\max{(g(0),g(1))}$ et c n'appartient pas à l'image de $[0,1]$ par g, et des fonctions continues telles que l'on n'est pas $\\min{(g(0),g(1))} \\leq c \\leq \\max{(g(0),g(1))}$ et c n'appartient pas à l'image de $[0,1]$ par g."
   ]
  },
  {
   "cell_type": "markdown",
   "metadata": {},
   "source": [
    "### Avec cette hypothèse sur g, on peut proposer une approche par dichotomie :\n",
    "#### - invariant de boucle: $f(ta)= a \\leq c \\leq b \\leq f(tb)$\n",
    "#### - variant de boucle: $ta-tb = (\\frac{1}{2})^{k}$"
   ]
  },
  {
   "cell_type": "code",
   "execution_count": 35,
   "metadata": {},
   "outputs": [],
   "source": [
    "def find_seed(g, c=0, eps=2**(-26)):\n",
    "    \"\"\"\n",
    "    recherche d'une solution de t de [0,1] tq g(t) = c,\n",
    "    à condition que c soit dans [g(0),g(1)] ou [g(1),g(0)]\n",
    "    \"\"\"\n",
    "    a, b = g(0),g(1)\n",
    "    ta, tb = 0, 1\n",
    "    if a > b:\n",
    "        a, b = b, a\n",
    "        ta, tb = tb, ta\n",
    "    try:\n",
    "        if c < a or c > b :\n",
    "            raise ValueError\n",
    "    except ValueError:\n",
    "        return(None)\n",
    "    #invariants: f(ta)=a<=c<=b=f(tb)\n",
    "    t = (ta + tb)/2\n",
    "    while abs(g(t)-c) > eps :\n",
    "        if g(t) < c:\n",
    "            a = g(t)\n",
    "            ta = t\n",
    "        else:\n",
    "            b = g(t)\n",
    "            tb = t\n",
    "        t = (ta + tb)/2\n",
    "    return t"
   ]
  },
  {
   "cell_type": "markdown",
   "metadata": {},
   "source": [
    "## contour(f,c,xc,yc,delta)\n",
    "\n",
    " On supposera dans cette partie déjà écrite la fonction simple_contour.\\\n",
    "Le principe est de découper la zone en quadrillage avec les tableaux $xc$ et $yc$.\\\n",
    "Dans chaque case de ce quadrillage, on applique simple_contour à une fonction $ftilde$ qui correspond à $f$ par la transformation affine $(xa + (xb-xa).tx, ya + (yb-ya).ty)$\\\n",
    "On obtient les coordonnées des points de $[0,1]²$ en lesquels $ftilde$ vaut $c$\\\n",
    "On en déduit par $x,y = (xa + (xb-xa).tx, ya + (yb-ya).ty)$ les coordonnées des points dans $[xa,xb]\\times[ya,yb]$ en lesquels $f$ vaut $c$."
   ]
  },
  {
   "cell_type": "code",
   "execution_count": 36,
   "metadata": {},
   "outputs": [],
   "source": [
    "def contour(f, c=0.0, xc=[0.0,1.0], yc=[0.0,1.0], delta=0.01):\n",
    "    \"\"\"\n",
    "    renvoie des fragments pour chaque case du quadrillage (xc,yc) sous la forme de 2 listes de tableaux\n",
    "    \"\"\"\n",
    "    nx = len(xc)\n",
    "    ny = len(yc)\n",
    "    xs = []\n",
    "    ys = []\n",
    "    for i in range(0,nx-1):\n",
    "        xa,xb = xc[i],xc[i+1]\n",
    "        for j in range(0,ny-1):\n",
    "            ya,yb = yc[j],yc[j+1]\n",
    "            def ftilde(tx,ty):\n",
    "                \"\"\"\n",
    "                fonction de [0,1]X[0,1]\n",
    "                \"\"\"\n",
    "                return(f(xa+(xb-xa)*tx,ya+(yb-ya)*ty))\n",
    "            TX,TY = simple_contour(ftilde,c,delta)\n",
    "            x,y = (xb-xa)*TX + xa, (yb-ya)*TY + ya\n",
    "            xs.append(x)\n",
    "            ys.append(y)\n",
    "    return(xs,ys)"
   ]
  },
  {
   "cell_type": "markdown",
   "metadata": {},
   "source": [
    "## simple_contour(f,c,delta) version \"naïve\"\n",
    "\n",
    "On divise l'axe des abscisses en abscisses chacune écartée de $delta$ $(xi = i\\times delta)$\\\n",
    "On trouve pour chacune de ces abscisses une ordonnée $yi$ grâce à find_seed avec la fonction $g(t) = f(xi,t)$"
   ]
  },
  {
   "cell_type": "code",
   "execution_count": 37,
   "metadata": {},
   "outputs": [],
   "source": [
    "def simple_contour_naif(f,c=0.0,delta = 0.01):\n",
    "    \"\"\"\n",
    "    renvoie une partie de courbe de niveau\n",
    "    \"\"\"\n",
    "    x = np.arange(0,1,delta)\n",
    "    y = np.zeros(len(x),dtype = float)\n",
    "    for i,xi in enumerate(x):\n",
    "        yi = find_seed(lambda t : f(xi,t),c)\n",
    "        if yi == None:\n",
    "            y[i] = None\n",
    "        else:\n",
    "            y[i] = yi\n",
    "    return(x,y)\n",
    "\n",
    "def contour_naif(f, c=0.0, xc=[0.0,1.0], yc=[0.0,1.0], delta=0.01):\n",
    "    \"\"\"\n",
    "    renvoie des fragments pour chaque case du quadrillage (xc,yc) sous la forme de 2 listes de tableaux\n",
    "    \"\"\"\n",
    "    nx = len(xc)\n",
    "    ny = len(yc)\n",
    "    xs = []\n",
    "    ys = []\n",
    "    for i in range(0,nx-1):\n",
    "        xa,xb = xc[i],xc[i+1]\n",
    "        for j in range(0,ny-1):\n",
    "            ya,yb = yc[j],yc[j+1]\n",
    "            def ftilde(tx,ty):\n",
    "                \"\"\"\n",
    "                fonction de [0,1]X[0,1]\n",
    "                \"\"\"\n",
    "                return(f(xa+(xb-xa)*tx,ya+(yb-ya)*ty))\n",
    "            TX,TY = simple_contour_naif(ftilde,c,delta)\n",
    "            x,y = (xb-xa)*TX + xa, (yb-ya)*TY + ya\n",
    "            xs.append(x)\n",
    "            ys.append(y)\n",
    "    return(xs,ys)"
   ]
  },
  {
   "cell_type": "code",
   "execution_count": 52,
   "metadata": {},
   "outputs": [
    {
     "name": "stdout",
     "output_type": "stream",
     "text": [
      "vitesse d'éxécution = 17.55172872543335\n"
     ]
    },
    {
     "data": {
      "image/png": "[encoded data removed]",
      "text/plain": [
       "<Figure size 432x288 with 1 Axes>"
      ]
     },
     "metadata": {
      "needs_background": "light"
     },
     "output_type": "display_data"
    }
   ],
   "source": [
    "import matplotlib.pyplot as plt\n",
    "%matplotlib inline\n",
    "\n",
    "top = time.time()\n",
    "for c in [-1.5,-1.,-0.5,0,0.5,1.,1.5]:\n",
    "    xc, yc = np.linspace(-2.,3.,20), np.linspace(-1.,2.,20)\n",
    "    xs, ys = contour_naif(f,c,xc,yc)\n",
    "    for x,y in zip(xs,ys):\n",
    "        plt.plot(x,y,'b')\n",
    "\n",
    "print(f\"vitesse d'éxécution = {time.time()-top}\")\n",
    "plt.show()"
   ]
  },
  {
   "cell_type": "markdown",
   "metadata": {},
   "source": [
    "# simple_contour(f,c,delta) version \"méthode de Newton\"\n",
    "\n",
    "Le principe est le suivant:\n",
    "### 1) trouver une racine\n",
    "On utilise pour cela find_seed pour la fonction $g(t) = f(xi,t)$ avec $xi = i.delta$ tant que $xi \\leq 1$. On note le couple trouvé $(xc,yc)$\n",
    "### 2) propagation\n",
    "Le but est ici de trouver une autre racine à une distance delta de $(xc,yc)$. Pour cela, on utilise la méthode de Newton en dimension 2 avec la fonction $F(x,y)=(f(x,y) - c,(x-xc)^{2} + (y-yc)^{2} - delta^{2})$. On aura donc un couple $(x,y)$ qui vérifiera $f(x,y) = c$ et $d((x,y),(xc,yc))=delta$.\n",
    "\n",
    "Il faut cependant trouver un point \"pas trop loin de cette future racine\" pour utiliser Newton. Une idée est de prendre un point à distance $delta$ de $(xc,yc)$ qui est sur la tangente à la courbe $f(x,y)=c$ au point $(xc,yc)$. On connaît un vecteur normal à la courbe avec le gradient: $ \\large{\\vec{n} = \\frac{\\vec{\\nabla} {f}(xc,yc)}{||\\vec{\\nabla} {f}(xc,yc)||}}$. \n",
    "On en déduit deux vecteurs tangent normés: $ \\vec{T_1} = delta . \\begin{pmatrix} \n",
    " -n_1 \\\\ \n",
    " n_0 \\\\ \n",
    " \\end{pmatrix} $ et $\\vec{T_2} = - \\vec{T_1}$. On peut donc prendre comme point initial de la méthode de Newton $\\begin{pmatrix} \n",
    " x_0 \\\\ \n",
    " y_0 \\\\ \n",
    " \\end{pmatrix} = \\begin{pmatrix} \n",
    " x_c \\\\ \n",
    " y_c \\\\ \n",
    " \\end{pmatrix} + \\vec{T_1}$ ou $\\begin{pmatrix} \n",
    " x_0 \\\\ \n",
    " y_0 \\\\ \n",
    " \\end{pmatrix} = \\begin{pmatrix} \n",
    " x_c \\\\ \n",
    " y_c \\\\ \n",
    " \\end{pmatrix} + \\vec{T_2}$\n",
    "\n",
    "**Intérêt des vecteurs tangents:** ils définissent le sens de parcours du contour (si la fonction n'est pas trop biscornue). Ainsi, si on pourrait croire que choisir un vecteur tangent nos fait perdre la partie non englobé par le sens de parcours, et bien il suffit donc de faire toute la courbe dans le sens de $\\vec{T_1}$, puis le reste dans le sens de $\\vec{T_2}$.\\\n",
    "Dans le programme suivant on : \\\n",
    "$f(x_{n+1},y_{n+1})=f(x_{n},y_{n})+ J_f(x_n,y_n)\\times \\begin{pmatrix} \n",
    " x_{n+1}-x_n \\\\ \n",
    " y_{n+1}-y_n \\\\ \n",
    " \\end{pmatrix}\\\\\n",
    " f(x_{n+1},y_{n+1})\\simeq c= \\begin{pmatrix} \n",
    " f_x \\\\ \n",
    " f_y \\\\ \n",
    " \\end{pmatrix}\\\\ \\begin{pmatrix} \n",
    " x_{n+1} \\\\ \n",
    " y_{n+1} \\\\ \n",
    " \\end{pmatrix}= \n",
    " \\begin{pmatrix} \n",
    " x_n \\\\ \n",
    " y_n \\\\ \n",
    " \\end{pmatrix} + J_f^{-1}(x_n,y_n)\\times (c- f(x_n,y_n))$"
   ]
  },
  {
   "cell_type": "code",
   "execution_count": 39,
   "metadata": {},
   "outputs": [],
   "source": [
    "import autograd\n",
    "from autograd import numpy as np\n",
    "\n",
    "def newton_2D(f, x0, y0, fx = 0, fy = 0, eps = 2**(-26)):\n",
    "    \"\"\"\n",
    "    méthode de newton pour f une fonction de R² dans R²\n",
    "    renvoie un couple (x0,y0) qui représente les coordonnées d'une solution au \n",
    "    problème f(x,y) = (fx,fy)\n",
    "    \"\"\"\n",
    "    def J_f(x,y):\n",
    "        \"\"\"\n",
    "        donne le jacobien de f au point de coordonnées (x,y)\n",
    "        sous la forme d'une matrice carrée\n",
    "        \"\"\"\n",
    "        j = autograd.jacobian\n",
    "        return np.c_[j(f,0)(x,y), j(f,1)(x,y)]\n",
    "    \n",
    "    imx, imy = f(x0,y0)[0], f(x0,y0)[1]\n",
    "    c = np.array([[fx],\n",
    "                  [fy]])\n",
    "    pos = np.array([[x0],\n",
    "                    [y0]])\n",
    "    im = np.array([[imx],\n",
    "                    [imy]])\n",
    "    try:\n",
    "        while max(abs(imx - fx), abs(imy - fy)) > eps:\n",
    "            J = J_f(x0,y0)\n",
    "            a,b,c,d = J[0,0],J[0,1],J[1,0],J[1,1]\n",
    "            #test inversibilite de J\n",
    "            if a*d-b*c == 0:\n",
    "                raise ValueError(\"matrice non inversible\")\n",
    "            pos = pos + np.dot(np.linalg.inv(J),c-im)\n",
    "            x0,y0 = pos[0][0],pos[1][0]\n",
    "            imx,imy = f(x0,y0)[0], f(x0,y0)[1]\n",
    "            pos = np.array([[x0],\n",
    "                            [y0]])\n",
    "            im = np.array([[imx],\n",
    "                            [imy]])\n",
    "    except ValueError :\n",
    "        return(x0,y0)\n",
    "    return(x0,y0)"
   ]
  },
  {
   "cell_type": "code",
   "execution_count": 40,
   "metadata": {},
   "outputs": [],
   "source": [
    "def grad_f(f,x,y):\n",
    "    \"\"\"\n",
    "    donne le gradient de la fonction à valeurs réelles au point de coordonnées (x,y)\n",
    "    sous la forme d'un vecteur ligne\n",
    "    \"\"\"\n",
    "    g = autograd.grad\n",
    "    return np.r_[g(f,0)(x,y),g(f,1)(x,y)]"
   ]
  },
  {
   "cell_type": "code",
   "execution_count": 41,
   "metadata": {},
   "outputs": [],
   "source": [
    "def simple_contour_n(f,c=0.0,delta = 0.01):\n",
    "    \"\"\"\n",
    "    renvoie une partie de courbe de niveau\n",
    "    \"\"\"\n",
    "    maxiter = int(10/delta)\n",
    "    x,y = [],[]\n",
    "    exist_seed = False\n",
    "    i = 0\n",
    "    while not exist_seed:\n",
    "        if i * delta > 1:\n",
    "            return(np.array(x),np.array(y))\n",
    "        yi = find_seed(lambda t: f(i*delta,t),c)\n",
    "        if yi == None:\n",
    "            i += 1\n",
    "        else:\n",
    "            x.append(i*delta)\n",
    "            y.append(yi)\n",
    "            exist_seed = True\n",
    "    Xc, Yc = x[-1], y[-1]\n",
    "    xc,yc = Xc, Yc\n",
    "    N = 0\n",
    "    while N<maxiter:\n",
    "        grad = grad_f(f,xc,yc)\n",
    "        tangent = np.array([-grad[1],grad[0]])/np.power(grad[0]**2 + grad[1]**2,1/2)*delta\n",
    "        x0, y0 = xc + tangent[0], yc + tangent[1]\n",
    "        def F(x,y):\n",
    "            return np.array([f(x,y),np.power(x-x0,2)+np.power(y-y0,2)])\n",
    "        xc, yc = newton_2D(F, x0, y0, fx = c, fy = delta**2)\n",
    "        if xc<0 or xc>1 or yc<0 or yc >1:\n",
    "            N = maxiter\n",
    "        x.append(xc)\n",
    "        y.append(yc)\n",
    "        N += 1\n",
    "    x.reverse()\n",
    "    y.reverse()\n",
    "    xc,yc = Xc, Yc\n",
    "    N = 0\n",
    "    while N<maxiter:\n",
    "        grad = grad_f(f,xc,yc)\n",
    "        tangent = np.array([grad[1],-grad[0]])/np.power(grad[0]**2 + grad[1]**2,1/2)*delta\n",
    "        x0, y0 = xc + tangent[0], yc + tangent[1]\n",
    "        def F(x,y):\n",
    "            return np.array([f(x,y),np.power(x-x0,2)+np.power(y-y0,2)])\n",
    "        xc, yc = newton_2D(F, x0, y0, fx = c, fy = delta**2)\n",
    "        if xc<0 or xc>1 or yc<0 or yc >1:\n",
    "            N = maxiter\n",
    "        x.append(xc)\n",
    "        y.append(yc)\n",
    "        N += 1\n",
    "    return(np.array(x),np.array(y))"
   ]
  },
  {
   "cell_type": "code",
   "execution_count": 42,
   "metadata": {},
   "outputs": [],
   "source": [
    "def contour_n(f, c=0.0, xc=[0.0,1.0], yc=[0.0,1.0], delta=0.01):\n",
    "    \"\"\"\n",
    "    renvoie des fragments pour chaque case du quadrillage (xc,yc)\n",
    "    \"\"\"\n",
    "    nx = len(xc)\n",
    "    ny = len(yc)\n",
    "    xs = []\n",
    "    ys = []\n",
    "    for i in range(0,nx-1):\n",
    "        xa,xb = xc[i],xc[i+1]\n",
    "        for j in range(0,ny-1):\n",
    "            ya,yb = yc[j],yc[j+1]\n",
    "            def ftilde(tx,ty):\n",
    "                \"\"\"\n",
    "                fonction de [0,1]X[0,1]\n",
    "                \"\"\"\n",
    "                return(f(xa+(xb-xa)*tx,ya+(yb-ya)*ty))\n",
    "            TX,TY = simple_contour_n(ftilde,c,delta)\n",
    "            x,y = (xb-xa)*TX + xa, (yb-ya)*TY + ya\n",
    "            xs.append(x)\n",
    "            ys.append(y)\n",
    "    \n",
    "    return(xs,ys)"
   ]
  },
  {
   "cell_type": "code",
   "execution_count": 43,
   "metadata": {},
   "outputs": [
    {
     "name": "stdout",
     "output_type": "stream",
     "text": [
      "32.66590690612793\n"
     ]
    },
    {
     "data": {
      "image/png": "[encoded data removed]",
      "text/plain": [
       "<Figure size 432x288 with 1 Axes>"
      ]
     },
     "metadata": {
      "needs_background": "light"
     },
     "output_type": "display_data"
    }
   ],
   "source": [
    "#essai de contour_n\n",
    "\n",
    "import time\n",
    "\n",
    "top = time.time()\n",
    "for c in [-1.5,-1.,-0.5,0,0.5,1.,1.5]:\n",
    "    xc, yc = np.linspace(-2.,3.,20), np.linspace(-1.,2.,20)\n",
    "    xs, ys = contour_n(f,c,xc,yc)\n",
    "    for x,y in zip(xs,ys):\n",
    "        plt.plot(x,y,'b')\n",
    "\n",
    "print(f\"vitesse d'éxécution = {time.time()-top}\")\n",
    "plt.show()\n"
   ]
  },
  {
   "cell_type": "markdown",
   "metadata": {},
   "source": [
    "## simple_contour_sc(f,c,delta)\n",
    "\n",
    "Ici, pour éviter un coûteux calcul de Jacobienne, on fait une propagation avec comme méthode pour trouver le point suivant, une méthode de Newton à la fonction réelle $F(t)=f(p_0 + t.\\nabla{f(x_c,y_c)})-c$ avec $p_0 = \\begin{pmatrix} \n",
    " x_0 \\\\ \n",
    " y_0 \\\\ \n",
    " \\end{pmatrix}\\\\ $ le point défini par $p_0 = \\begin{pmatrix} \n",
    " x_c \\\\ \n",
    " y_c \\\\ \n",
    " \\end{pmatrix}\\\\ $ $+  \\vec{T} $\n",
    " \n",
    " On utilise la fonction newton du module scipy.optimize qui est une méthode de newton pour une fonction d'une seule variable réelle et à valeurs réelles.\n",
    " \n",
    " L'idée d'utiliser une telle fonction F est que la droite passant par $p_0$ orientée par $\\vec{\\nabla} {f}(xc,yc)$ est casi orthogonale à la courbe $f(x,y)=c$ et ces courbes possèdent donc un point d'intersection. De plus, au voisinnage de $\\begin{pmatrix} \n",
    " x_c \\\\ \n",
    " y_c \\\\ \n",
    " \\end{pmatrix}$ la courbe est au premier ordre la tangente en ce point. Ainsi, en commençant en $p_0$ qui est à distance $delta$ de $\\begin{pmatrix} \n",
    " x_c \\\\ \n",
    " y_c \\\\ \n",
    " \\end{pmatrix}$ on est sur d'avoir $p_0$ relativement proche d'une solution sur la droite précédemment évoqué et donc a une distance de $\\begin{pmatrix} \n",
    " x_c \\\\ \n",
    " y_c \\\\ \n",
    " \\end{pmatrix}$ proche de $delta$."
   ]
  },
  {
   "cell_type": "code",
   "execution_count": 51,
   "metadata": {},
   "outputs": [
    {
     "name": "stdout",
     "output_type": "stream",
     "text": [
      "vitesse d'éxécution = 20.096445560455322\n"
     ]
    },
    {
     "data": {
      "image/png": "[encoded data removed]",
      "text/plain": [
       "<Figure size 432x288 with 1 Axes>"
      ]
     },
     "metadata": {
      "needs_background": "light"
     },
     "output_type": "display_data"
    }
   ],
   "source": [
    "from scipy.optimize import newton\n",
    "\n",
    "\n",
    "\n",
    "def grad_f(f,x,y):\n",
    "    \"\"\"\n",
    "    donne le gradient de la fonction à valeurs réelles au point de coordonnées (x,y)\n",
    "    sous la forme d'un vecteur ligne\n",
    "    \"\"\"\n",
    "    g = autograd.grad\n",
    "    return np.r_[g(f,0)(x,y),g(f,1)(x,y)]\n",
    "\n",
    "\n",
    "def simple_contour_sc(f,c=0.0,delta = 0.01,):\n",
    "    \"\"\"\n",
    "    renvoie une partie de courbe de niveau\n",
    "    \"\"\"\n",
    "    maxiter = int(10/delta)\n",
    "    x,y = [],[]\n",
    "    exist_seed = False\n",
    "    i = 0\n",
    "    while not exist_seed:\n",
    "        if i * delta > 1:\n",
    "            return(np.array([],dtype = float),np.array([],dtype = float))\n",
    "        yi = find_seed(lambda t: f(i*delta,t),c)\n",
    "        if yi == None:\n",
    "            i += 1\n",
    "        else:\n",
    "            x.append(i*delta)\n",
    "            y.append(yi)\n",
    "            exist_seed = True\n",
    "    Xc, Yc = x[-1], y[-1]\n",
    "    N = 0\n",
    "    xc,yc = Xc, Yc\n",
    "    while N < maxiter:\n",
    "        grad = grad_f(f,xc,yc)\n",
    "        tangent = np.array([-grad[1],grad[0]])/np.power(grad[0]**2 + grad[1]**2,1/2)*delta\n",
    "        x0, y0 = xc + tangent[0], yc + tangent[1]\n",
    "        def F(t):\n",
    "            return (f(x0+t*grad[0],y0+t*grad[1])-c)\n",
    "        tc = newton(F, 0)\n",
    "        xc, yc = x0 + tc*grad[0], y0 + tc*grad[1]\n",
    "        if xc<0 or xc>1 or yc<0 or yc >1:\n",
    "            N = maxiter\n",
    "        else:\n",
    "            x.append(xc)\n",
    "            y.append(yc)\n",
    "            N += 1\n",
    "    x.reverse()\n",
    "    y.reverse()\n",
    "    N = 0\n",
    "    xc,yc = Xc, Yc\n",
    "    while N <= maxiter:\n",
    "        grad = grad_f(f,xc,yc)\n",
    "        tangent = np.array([grad[1],-grad[0]])/np.power(grad[0]**2 + grad[1]**2,1/2)*delta\n",
    "        x0, y0 = xc + tangent[0], yc + tangent[1]\n",
    "        def F(t):\n",
    "            return (f(x0+t*grad[0],y0+t*grad[1])-c)\n",
    "        tc = newton(F, 0)\n",
    "        xc, yc = x0 + tc*grad[0], y0 + tc*grad[1]\n",
    "        if xc<0 or xc>1 or yc<0 or yc >1:\n",
    "            return(np.array(x),np.array(y))\n",
    "        x.append(xc)\n",
    "        y.append(yc)\n",
    "        N += 1\n",
    "    return(np.array(x),np.array(y))\n",
    "\n",
    "\n",
    "def contour_sc(f, c=0.0, xc=[0.0,1.0], yc=[0.0,1.0], delta=0.01):\n",
    "    \"\"\"\n",
    "    renvoie des fragments pour chaque case du quadrillage (xc,yc)\n",
    "    \"\"\"\n",
    "    nx = len(xc)\n",
    "    ny = len(yc)\n",
    "    xs = []\n",
    "    ys = []\n",
    "    for i in range(0,nx-1):\n",
    "        xa,xb = xc[i],xc[i+1]\n",
    "        for j in range(0,ny-1):\n",
    "            ya,yb = yc[j],yc[j+1]\n",
    "            def ftilde(tx,ty):\n",
    "                \"\"\"\n",
    "                fonction de [0,1]X[0,1]\n",
    "                \"\"\"\n",
    "                return(f(xa+(xb-xa)*tx,ya+(yb-ya)*ty))\n",
    "            TX,TY = simple_contour_sc(ftilde,c,delta)\n",
    "            x,y = (xb-xa)*TX + xa, (yb-ya)*TY + ya\n",
    "            xs.append(x)\n",
    "            ys.append(y)\n",
    "    return(xs,ys)\n",
    "\n",
    "import time\n",
    "\n",
    "top = time.time()\n",
    "for c in [-1.5,-1.,-0.5,0,0.5,1.,1.5]:\n",
    "    xc, yc = np.linspace(-2.,3.,20), np.linspace(-1.,2.,20)\n",
    "    xs, ys = contour_sc(f,c,xc,yc)\n",
    "    for x,y in zip(xs,ys):\n",
    "        plt.plot(x,y,'b')\n",
    "\n",
    "print(f\"vitesse d'éxécution = {time.time()-top}\")\n",
    "plt.show()\n"
   ]
  },
  {
   "cell_type": "markdown",
   "metadata": {},
   "source": [
    "## Comparaison des différentes méthodes"
   ]
  },
  {
   "cell_type": "code",
   "execution_count": 54,
   "metadata": {},
   "outputs": [],
   "source": [
    "import time\n",
    "def vitesse_execution(g,C,xc,yc,name):\n",
    "    top = time.time()\n",
    "    for c in C:\n",
    "        g(f,c,xc,yc)\n",
    "    end = time.time()\n",
    "    print(f\"{name} s'éxécute en {end-top}s\")"
   ]
  },
  {
   "cell_type": "code",
   "execution_count": 55,
   "metadata": {},
   "outputs": [
    {
     "name": "stdout",
     "output_type": "stream",
     "text": [
      "contour_naif s'éxécute en 13.421269416809082s\n",
      "contour_n s'éxécute en 30.239619255065918s\n",
      "contour_sc s'éxécute en 17.98335862159729s\n"
     ]
    }
   ],
   "source": [
    "C = [-1.5,-1.,-0.5,0.,0.5,1.,1.5]\n",
    "xc, yc = np.linspace(-2.,3.,20), np.linspace(-1.,2.,20)\n",
    "\n",
    "vitesse_execution(contour_naif,C,xc,yc,\"contour_naif\")\n",
    "vitesse_execution(contour_n,C,xc,yc,\"contour_n\")\n",
    "vitesse_execution(contour_sc,C,xc,yc,\"contour_sc\")"
   ]
  },
  {
   "cell_type": "markdown",
   "metadata": {},
   "source": [
    "**Comparaison des vitesses d'éxécution**\n",
    "\n",
    "Pour les mêmes paramètres en entrée, on a contour_naif qui est la fonction la plus rapide et contour_n la plus lente, ce qui peut s'expliquer par la complexité croissante des calculs à effectuer pour passer d'un point au suivant.\n",
    "\n",
    "**Comparaison des résultats**\n",
    "\n",
    "On a pour contour_naif une seulement une garantie sur le fait que les points trouvés ont bien comme image par f la valeur c, mais aucune garantie sur leur écartement. On a en effet garantie seulement $\\delta{x}=delta$ mais on a aucune garantie sur $\\delta{y}$. Ainsi, la fonction est moins précise dans les zones de \"fortes pentes verticales\", comme on peut voir sur le premier tracé : il y a des trous dans les courbes de niveau à ces endroits là.\n",
    "\n",
    "La fonction contour_n devrait garantir une distance entre chaque point de $delta$. En effet, la méthode de Newton assure ici que le point trouvé est à une distance $delta$ du précédent, à plus ou moins $eps$. Cependant, suite à plusieurs tests, nous avons remarqué que très rapidement, la suite des itérations de la méthode de Newton passait par un point de Jacobienne non inversible. Pour éviter d'arrêter le processus, nous avons donc relevé l'exception provoquée et renvoyé le dernier point atteint sur lequel nous n'avons aucune garantie.\n",
    "\n",
    "La fonction contour_sc nous garantie que les points renvoyés ont pour image par $f$ la valeur $c$ mais ne garantie pas a priori la distance entre ces points. Une majoration de cette distance pourrait être apportée par une hypothèse supplémentaire sur $f$ comme par exemple $f$ de classe $C^{2}$."
   ]
  },
  {
   "cell_type": "code",
   "execution_count": null,
   "metadata": {},
   "outputs": [],
   "source": []
  }
 ],
 "metadata": {
  "kernelspec": {
   "display_name": "Python 3",
   "language": "python",
   "name": "python3"
  },
  "language_info": {
   "codemirror_mode": {
    "name": "ipython",
    "version": 3
   },
   "file_extension": ".py",
   "mimetype": "text/x-python",
   "name": "python",
   "nbconvert_exporter": "python",
   "pygments_lexer": "ipython3",
   "version": "3.7.3"
  }
 },
 "nbformat": 4,
 "nbformat_minor": 2
}
