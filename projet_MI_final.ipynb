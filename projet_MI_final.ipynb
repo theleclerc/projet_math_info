{
 "cells": [
  {
   "cell_type": "markdown",
   "metadata": {},
   "source": [
    "# Projet Math-Info: Lignes de niveau\n",
    "  $\\quad$L’objectif de ce projet numérique est de développer un programme Python permettant de calculer les lignes de niveau d’une fonction $f$ de deux variables réelles et à valeurs réelles (supposée continûment différentiable), c’est-à-dire les ensembles de la forme\\\n",
    "$ \\bf{\\qquad {(x,y)∈ R^{2}|f(x,y)=c}}$ où $\\bf{c∈R}.$ \\\n",
    "La représentation graphique de ces courbes est un tracé de contour (cf. les\n",
    "exemples d’usage de la fonction contour de matplotlib).\n",
    "## Sommaire:\n",
    " ### - find_seed\n",
    " ### - contour\n",
    " ### - simple_contour version \"naïve\"\n",
    " ### - simple_contour version \"méthode de Newton"
   ]
  },
  {
   "cell_type": "code",
   "execution_count": 6,
   "metadata": {},
   "outputs": [],
   "source": [
    "import numpy as np\n",
    "from math import *\n",
    "\n",
    "def f(x,y):\n",
    "    \"\"\"\n",
    "    fonction test\n",
    "    \"\"\"\n",
    "    return(2*(exp(-x**2-y**2)-exp(-(x-1)**2-(y-1)**2)))\n",
    "\n",
    "def g(x,y):\n",
    "    \"\"\"\n",
    "    fonction test\n",
    "    \"\"\"\n",
    "    return(sqrt(x**2+y**2))"
   ]
  },
  {
   "cell_type": "markdown",
   "metadata": {},
   "source": [
    "$\\Large{\\underline{find_seed(g,c,delta)}}$\n",
    "\n",
    "### Remarque : \n",
    " Ici par rapport aux notations des polycopiés, on a g qui est fonction d'une seule variable, c'est à dire par exemple $g(t) = f(0,t)$ pour tout t appartenant à $[0,1]$."
   ]
  },
  {
   "cell_type": "markdown",
   "metadata": {},
   "source": [
    "Une condition raisonnable sur $f, c, f(0,0)$ et  $f(0,1)$ (ou sur $g, c, g(0)$ et  $g(1))$ \\\n",
    "On peut demander au minimum $f \\ C^{0}$ et $ \\min{(f(0,0),f(0,1))} \\leq c \\leq \\max{(f(0,0),f(0,1))}$ ou encore plus généralement $g \\ C^{0}$ et $\\min{(g(0),g(1))} \\leq c \\leq \\max{(g(0),g(1))}$. \\\n",
    " Cela garantit en effet que c appartient à $g([0,1]) = f({0}\\times[0,1])$ par le théorème des valeurs intermédiaires.\n",
    " \n",
    " Ce n'est pas une condition nécéssaire puisqu'il serait nécessaire et suffisant pour une fonction continue d'avoir $\\inf(f) \\leq c \\leq \\sup(f)$ sur $[0,1]$, mais cette condition est minimale pour une condition portant sur $g, g(0)$ et $g(1)$ puisqu'il existe des fonctions non continues vérifiant $\\min{(g(0),g(1))} \\leq c \\leq \\max{(g(0),g(1))}$ et c n'appartient pas à l'image de $[0,1]$ par g, et des fonctions continues telles que l'on n'est pas $\\min{(g(0),g(1))} \\leq c \\leq \\max{(g(0),g(1))}$ et c n'appartient pas à l'image de $[0,1]$ par g."
   ]
  },
  {
   "cell_type": "markdown",
   "metadata": {},
   "source": [
    "### Avec cette hypothèse sur g, on peut proposer une approche par dichotomie :\n",
    "#### - invariant de boucle: $f(ta)= a \\leq c \\leq b \\leq f(tb)$\n",
    "#### - variant de boucle: $ta-tb = (\\frac{1}{2})^{k}$"
   ]
  },
  {
   "cell_type": "code",
   "execution_count": 1,
   "metadata": {},
   "outputs": [],
   "source": [
    "def find_seed(g, c=0, eps=2**(-26)):\n",
    "    \"\"\"\n",
    "    recherche d'une solution de t de [0,1] tq g(t) = c,\n",
    "    à condition que c soit dans [g(0),g(1)] ou [g(1),g(0)]\n",
    "    \"\"\"\n",
    "    a, b = g(0),g(1)\n",
    "    ta, tb = 0, 1\n",
    "    if a > b:\n",
    "        a, b = b, a\n",
    "        ta, tb = tb, ta\n",
    "    try:\n",
    "        if c < a or c > b :\n",
    "            raise ValueError\n",
    "    except ValueError:\n",
    "        return(None)\n",
    "    #invariants: f(ta)=a<=c<=b=f(tb)\n",
    "    t = (ta + tb)/2\n",
    "    while abs(g(t)-c) > eps :\n",
    "        if g(t) < c:\n",
    "            a = g(t)\n",
    "            ta = t\n",
    "        else:\n",
    "            b = g(t)\n",
    "            tb = t\n",
    "        t = (ta + tb)/2\n",
    "    return t"
   ]
  },
  {
   "cell_type": "markdown",
   "metadata": {},
   "source": [
    "## contour(f,c,xc,yc,delta)\n",
    "\n",
    " On supposera dans cette partie déjà écrite la fonction simple_contour.\\\n",
    "Le principe est de découper la zone en quadrillage avec les tableaux $xc$ et $yc$.\\\n",
    "Dans chaque case de ce quadrillage, on applique simple_contour à une fonction $ftilde$ qui correspond à $f$ par la transformation affine $(xa + (xb-xa)\\times tx, ya + (yb-ya)\\times ty)$\\\n",
    "On obtient les coordonnées des points de $[0,1]²$ en lesquels $ftilde$ vaut $c$\\\n",
    "On en déduit par $x,y = (xa + (xb-xa)\\times tx, ya + (yb-ya)\\times ty)$ les coordonnées des points dans $[xa,xb]\\times[ya,yb]$ en lesquels $f$ vaut $c$."
   ]
  },
  {
   "cell_type": "code",
   "execution_count": 10,
   "metadata": {},
   "outputs": [],
   "source": [
    "def contour(f, c=0.0, xc=[0.0,1.0], yc=[0.0,1.0], delta=0.01):\n",
    "    \"\"\"\n",
    "    renvoie des fragments pour chaque case du quadrillage (xc,yc) sous la forme de 2 listes de tableaux\n",
    "    \"\"\"\n",
    "    nx = len(xc)\n",
    "    ny = len(yc)\n",
    "    xs = []\n",
    "    ys = []\n",
    "    for i in range(0,nx-1):\n",
    "        xa,xb = xc[i],xc[i+1]\n",
    "        for j in range(0,ny-1):\n",
    "            ya,yb = yc[j],yc[j+1]\n",
    "            def ftilde(tx,ty):\n",
    "                \"\"\"\n",
    "                fonction de [0,1]X[0,1]\n",
    "                \"\"\"\n",
    "                return(f(xa+(xb-xa)*tx,ya+(yb-ya)*ty))\n",
    "            TX,TY = simple_contour(ftilde,c,delta)\n",
    "            x,y = (xb-xa)*TX + xa, (yb-ya)*TY + ya\n",
    "            xs.append(x)\n",
    "            ys.append(y)\n",
    "    return(xs,ys)"
   ]
  },
  {
   "cell_type": "markdown",
   "metadata": {},
   "source": [
    "## simple_contour(f,c,delta) version \"naïve\"\n",
    "\n",
    "On divise l'axe des abscisses en abscisses chacune écartée de $delta$ $(xi = i\\times delta)$\\\n",
    "On trouve pour chacune de ces abscisses une ordonnée $yi$ grâce à find_seed avec la fonction $g(t) = f(xi,t)$"
   ]
  },
  {
   "cell_type": "code",
   "execution_count": 9,
   "metadata": {},
   "outputs": [],
   "source": [
    "def simple_contour(f,c=0.0,delta = 0.01):\n",
    "    \"\"\"\n",
    "    renvoie une partie de courbe de niveau\n",
    "    \"\"\"\n",
    "    x = np.arange(0,1,delta)\n",
    "    y = np.zeros(len(x),dtype = float)\n",
    "    for i,xi in enumerate(x):\n",
    "        yi = find_seed(lambda t : f(xi,t),c)\n",
    "        if yi == None:\n",
    "            y[i] = None\n",
    "        else:\n",
    "            y[i] = yi\n",
    "    return(x,y)\n"
   ]
  },
  {
   "cell_type": "code",
   "execution_count": 15,
   "metadata": {},
   "outputs": [
    {
     "data": {
      "image/png": "[encoded data removed]",
      "text/plain": [
       "<Figure size 432x288 with 1 Axes>"
      ]
     },
     "metadata": {
      "needs_background": "light"
     },
     "output_type": "display_data"
    }
   ],
   "source": [
    "import matplotlib.pyplot as plt\n",
    "%matplotlib inline\n",
    "\n",
    "for c in [-1.5,-1,-0.5,0,0.5,1,1.5]:\n",
    "    xc, yc = np.linspace(-2.,3.,40), np.linspace(-1.,2.,40)\n",
    "    xs, ys = contour(f,c,xc,yc)\n",
    "    for x,y in zip(xs,ys):\n",
    "        plt.plot(x,y,'-b')\n",
    "plt.show()\n"
   ]
  },
  {
   "cell_type": "code",
   "execution_count": null,
   "metadata": {},
   "outputs": [],
   "source": []
  }
 ],
 "metadata": {
  "kernelspec": {
   "display_name": "Python 3",
   "language": "python",
   "name": "python3"
  },
  "language_info": {
   "codemirror_mode": {
    "name": "ipython",
    "version": 3
   },
   "file_extension": ".py",
   "mimetype": "text/x-python",
   "name": "python",
   "nbconvert_exporter": "python",
   "pygments_lexer": "ipython3",
   "version": "3.7.3"
  }
 },
 "nbformat": 4,
 "nbformat_minor": 2
}
